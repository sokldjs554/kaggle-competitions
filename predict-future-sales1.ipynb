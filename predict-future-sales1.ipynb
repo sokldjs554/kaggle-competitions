{
 "cells": [
  {
   "cell_type": "code",
   "execution_count": 1,
   "id": "8769c1f0",
   "metadata": {
    "_cell_guid": "b1076dfc-b9ad-4769-8c92-a6c4dae69d19",
    "_uuid": "8f2839f25d086af736a60e9eeb907d3b93b6e0e5",
    "execution": {
     "iopub.execute_input": "2024-04-22T08:03:44.906841Z",
     "iopub.status.busy": "2024-04-22T08:03:44.906343Z",
     "iopub.status.idle": "2024-04-22T08:03:45.782949Z",
     "shell.execute_reply": "2024-04-22T08:03:45.780601Z"
    },
    "papermill": {
     "duration": 0.887704,
     "end_time": "2024-04-22T08:03:45.785906",
     "exception": false,
     "start_time": "2024-04-22T08:03:44.898202",
     "status": "completed"
    },
    "tags": []
   },
   "outputs": [
    {
     "name": "stdout",
     "output_type": "stream",
     "text": [
      "/kaggle/input/competitive-data-science-predict-future-sales/items.csv\n",
      "/kaggle/input/competitive-data-science-predict-future-sales/sample_submission.csv\n",
      "/kaggle/input/competitive-data-science-predict-future-sales/item_categories.csv\n",
      "/kaggle/input/competitive-data-science-predict-future-sales/sales_train.csv\n",
      "/kaggle/input/competitive-data-science-predict-future-sales/shops.csv\n",
      "/kaggle/input/competitive-data-science-predict-future-sales/test.csv\n"
     ]
    }
   ],
   "source": [
    "# This Python 3 environment comes with many helpful analytics libraries installed\n",
    "# It is defined by the kaggle/python Docker image: https://github.com/kaggle/docker-python\n",
    "# For example, here's several helpful packages to load\n",
    "\n",
    "import numpy as np # linear algebra\n",
    "import pandas as pd # data processing, CSV file I/O (e.g. pd.read_csv)\n",
    "\n",
    "# Input data files are available in the read-only \"../input/\" directory\n",
    "# For example, running this (by clicking run or pressing Shift+Enter) will list all files under the input directory\n",
    "\n",
    "import os\n",
    "for dirname, _, filenames in os.walk('/kaggle/input'):\n",
    "    for filename in filenames:\n",
    "        print(os.path.join(dirname, filename))\n",
    "\n",
    "# You can write up to 20GB to the current directory (/kaggle/working/) that gets preserved as output when you create a version using \"Save & Run All\" \n",
    "# You can also write temporary files to /kaggle/temp/, but they won't be saved outside of the current session"
   ]
  },
  {
   "cell_type": "code",
   "execution_count": 2,
   "id": "5c9f9ca5",
   "metadata": {
    "execution": {
     "iopub.execute_input": "2024-04-22T08:03:45.800267Z",
     "iopub.status.busy": "2024-04-22T08:03:45.799818Z",
     "iopub.status.idle": "2024-04-22T08:03:47.027580Z",
     "shell.execute_reply": "2024-04-22T08:03:47.026534Z"
    },
    "papermill": {
     "duration": 1.237945,
     "end_time": "2024-04-22T08:03:47.030179",
     "exception": false,
     "start_time": "2024-04-22T08:03:45.792234",
     "status": "completed"
    },
    "tags": []
   },
   "outputs": [],
   "source": [
    "import pandas as pd\n",
    "import seaborn as sns\n",
    "import matplotlib as mpl\n",
    "import matplotlib.pyplot as plt\n",
    "%matplotlib inline"
   ]
  },
  {
   "cell_type": "code",
   "execution_count": 3,
   "id": "c8e56a45",
   "metadata": {
    "execution": {
     "iopub.execute_input": "2024-04-22T08:03:47.046021Z",
     "iopub.status.busy": "2024-04-22T08:03:47.045075Z",
     "iopub.status.idle": "2024-04-22T08:03:49.709397Z",
     "shell.execute_reply": "2024-04-22T08:03:49.708409Z"
    },
    "papermill": {
     "duration": 2.675544,
     "end_time": "2024-04-22T08:03:49.711897",
     "exception": false,
     "start_time": "2024-04-22T08:03:47.036353",
     "status": "completed"
    },
    "tags": []
   },
   "outputs": [],
   "source": [
    "data_path = '/kaggle/input/competitive-data-science-predict-future-sales/'\n",
    "sales_train = pd.read_csv(data_path + 'sales_train.csv')\n",
    "shops = pd.read_csv(data_path + 'shops.csv')\n",
    "items = pd.read_csv(data_path + 'items.csv')\n",
    "item_categories = pd.read_csv(data_path + 'item_categories.csv')\n",
    "test = pd.read_csv(data_path + 'test.csv')\n",
    "submission = pd.read_csv(data_path + 'sample_submission.csv')"
   ]
  },
  {
   "cell_type": "code",
   "execution_count": 4,
   "id": "96b40bbf",
   "metadata": {
    "execution": {
     "iopub.execute_input": "2024-04-22T08:03:49.726082Z",
     "iopub.status.busy": "2024-04-22T08:03:49.725314Z",
     "iopub.status.idle": "2024-04-22T08:03:49.748393Z",
     "shell.execute_reply": "2024-04-22T08:03:49.747420Z"
    },
    "papermill": {
     "duration": 0.032536,
     "end_time": "2024-04-22T08:03:49.750605",
     "exception": false,
     "start_time": "2024-04-22T08:03:49.718069",
     "status": "completed"
    },
    "tags": []
   },
   "outputs": [
    {
     "data": {
      "text/html": [
       "<div>\n",
       "<style scoped>\n",
       "    .dataframe tbody tr th:only-of-type {\n",
       "        vertical-align: middle;\n",
       "    }\n",
       "\n",
       "    .dataframe tbody tr th {\n",
       "        vertical-align: top;\n",
       "    }\n",
       "\n",
       "    .dataframe thead th {\n",
       "        text-align: right;\n",
       "    }\n",
       "</style>\n",
       "<table border=\"1\" class=\"dataframe\">\n",
       "  <thead>\n",
       "    <tr style=\"text-align: right;\">\n",
       "      <th></th>\n",
       "      <th>date</th>\n",
       "      <th>date_block_num</th>\n",
       "      <th>shop_id</th>\n",
       "      <th>item_id</th>\n",
       "      <th>item_price</th>\n",
       "      <th>item_cnt_day</th>\n",
       "    </tr>\n",
       "  </thead>\n",
       "  <tbody>\n",
       "    <tr>\n",
       "      <th>0</th>\n",
       "      <td>02.01.2013</td>\n",
       "      <td>0</td>\n",
       "      <td>59</td>\n",
       "      <td>22154</td>\n",
       "      <td>999.00</td>\n",
       "      <td>1.0</td>\n",
       "    </tr>\n",
       "    <tr>\n",
       "      <th>1</th>\n",
       "      <td>03.01.2013</td>\n",
       "      <td>0</td>\n",
       "      <td>25</td>\n",
       "      <td>2552</td>\n",
       "      <td>899.00</td>\n",
       "      <td>1.0</td>\n",
       "    </tr>\n",
       "    <tr>\n",
       "      <th>2</th>\n",
       "      <td>05.01.2013</td>\n",
       "      <td>0</td>\n",
       "      <td>25</td>\n",
       "      <td>2552</td>\n",
       "      <td>899.00</td>\n",
       "      <td>-1.0</td>\n",
       "    </tr>\n",
       "    <tr>\n",
       "      <th>3</th>\n",
       "      <td>06.01.2013</td>\n",
       "      <td>0</td>\n",
       "      <td>25</td>\n",
       "      <td>2554</td>\n",
       "      <td>1709.05</td>\n",
       "      <td>1.0</td>\n",
       "    </tr>\n",
       "    <tr>\n",
       "      <th>4</th>\n",
       "      <td>15.01.2013</td>\n",
       "      <td>0</td>\n",
       "      <td>25</td>\n",
       "      <td>2555</td>\n",
       "      <td>1099.00</td>\n",
       "      <td>1.0</td>\n",
       "    </tr>\n",
       "  </tbody>\n",
       "</table>\n",
       "</div>"
      ],
      "text/plain": [
       "         date  date_block_num  shop_id  item_id  item_price  item_cnt_day\n",
       "0  02.01.2013               0       59    22154      999.00           1.0\n",
       "1  03.01.2013               0       25     2552      899.00           1.0\n",
       "2  05.01.2013               0       25     2552      899.00          -1.0\n",
       "3  06.01.2013               0       25     2554     1709.05           1.0\n",
       "4  15.01.2013               0       25     2555     1099.00           1.0"
      ]
     },
     "execution_count": 4,
     "metadata": {},
     "output_type": "execute_result"
    }
   ],
   "source": [
    "sales_train.head()"
   ]
  },
  {
   "cell_type": "code",
   "execution_count": 5,
   "id": "b89f7113",
   "metadata": {
    "execution": {
     "iopub.execute_input": "2024-04-22T08:03:49.765381Z",
     "iopub.status.busy": "2024-04-22T08:03:49.765025Z",
     "iopub.status.idle": "2024-04-22T08:03:49.945720Z",
     "shell.execute_reply": "2024-04-22T08:03:49.944439Z"
    },
    "papermill": {
     "duration": 0.190618,
     "end_time": "2024-04-22T08:03:49.948124",
     "exception": false,
     "start_time": "2024-04-22T08:03:49.757506",
     "status": "completed"
    },
    "tags": []
   },
   "outputs": [
    {
     "name": "stdout",
     "output_type": "stream",
     "text": [
      "<class 'pandas.core.frame.DataFrame'>\n",
      "RangeIndex: 2935849 entries, 0 to 2935848\n",
      "Data columns (total 6 columns):\n",
      " #   Column          Non-Null Count    Dtype  \n",
      "---  ------          --------------    -----  \n",
      " 0   date            2935849 non-null  object \n",
      " 1   date_block_num  2935849 non-null  int64  \n",
      " 2   shop_id         2935849 non-null  int64  \n",
      " 3   item_id         2935849 non-null  int64  \n",
      " 4   item_price      2935849 non-null  float64\n",
      " 5   item_cnt_day    2935849 non-null  float64\n",
      "dtypes: float64(2), int64(3), object(1)\n",
      "memory usage: 134.4+ MB\n"
     ]
    }
   ],
   "source": [
    "sales_train.info(show_counts = True)"
   ]
  },
  {
   "cell_type": "code",
   "execution_count": 6,
   "id": "44af4f28",
   "metadata": {
    "execution": {
     "iopub.execute_input": "2024-04-22T08:03:49.963552Z",
     "iopub.status.busy": "2024-04-22T08:03:49.963183Z",
     "iopub.status.idle": "2024-04-22T08:03:49.972693Z",
     "shell.execute_reply": "2024-04-22T08:03:49.971722Z"
    },
    "papermill": {
     "duration": 0.020068,
     "end_time": "2024-04-22T08:03:49.974931",
     "exception": false,
     "start_time": "2024-04-22T08:03:49.954863",
     "status": "completed"
    },
    "tags": []
   },
   "outputs": [
    {
     "data": {
      "text/html": [
       "<div>\n",
       "<style scoped>\n",
       "    .dataframe tbody tr th:only-of-type {\n",
       "        vertical-align: middle;\n",
       "    }\n",
       "\n",
       "    .dataframe tbody tr th {\n",
       "        vertical-align: top;\n",
       "    }\n",
       "\n",
       "    .dataframe thead th {\n",
       "        text-align: right;\n",
       "    }\n",
       "</style>\n",
       "<table border=\"1\" class=\"dataframe\">\n",
       "  <thead>\n",
       "    <tr style=\"text-align: right;\">\n",
       "      <th></th>\n",
       "      <th>shop_name</th>\n",
       "      <th>shop_id</th>\n",
       "    </tr>\n",
       "  </thead>\n",
       "  <tbody>\n",
       "    <tr>\n",
       "      <th>0</th>\n",
       "      <td>!Якутск Орджоникидзе, 56 фран</td>\n",
       "      <td>0</td>\n",
       "    </tr>\n",
       "    <tr>\n",
       "      <th>1</th>\n",
       "      <td>!Якутск ТЦ \"Центральный\" фран</td>\n",
       "      <td>1</td>\n",
       "    </tr>\n",
       "    <tr>\n",
       "      <th>2</th>\n",
       "      <td>Адыгея ТЦ \"Мега\"</td>\n",
       "      <td>2</td>\n",
       "    </tr>\n",
       "    <tr>\n",
       "      <th>3</th>\n",
       "      <td>Балашиха ТРК \"Октябрь-Киномир\"</td>\n",
       "      <td>3</td>\n",
       "    </tr>\n",
       "    <tr>\n",
       "      <th>4</th>\n",
       "      <td>Волжский ТЦ \"Волга Молл\"</td>\n",
       "      <td>4</td>\n",
       "    </tr>\n",
       "  </tbody>\n",
       "</table>\n",
       "</div>"
      ],
      "text/plain": [
       "                        shop_name  shop_id\n",
       "0   !Якутск Орджоникидзе, 56 фран        0\n",
       "1   !Якутск ТЦ \"Центральный\" фран        1\n",
       "2                Адыгея ТЦ \"Мега\"        2\n",
       "3  Балашиха ТРК \"Октябрь-Киномир\"        3\n",
       "4        Волжский ТЦ \"Волга Молл\"        4"
      ]
     },
     "execution_count": 6,
     "metadata": {},
     "output_type": "execute_result"
    }
   ],
   "source": [
    "shops.head()"
   ]
  },
  {
   "cell_type": "code",
   "execution_count": 7,
   "id": "621c2341",
   "metadata": {
    "execution": {
     "iopub.execute_input": "2024-04-22T08:03:49.989913Z",
     "iopub.status.busy": "2024-04-22T08:03:49.989260Z",
     "iopub.status.idle": "2024-04-22T08:03:49.999560Z",
     "shell.execute_reply": "2024-04-22T08:03:49.998460Z"
    },
    "papermill": {
     "duration": 0.020503,
     "end_time": "2024-04-22T08:03:50.001963",
     "exception": false,
     "start_time": "2024-04-22T08:03:49.981460",
     "status": "completed"
    },
    "tags": []
   },
   "outputs": [
    {
     "name": "stdout",
     "output_type": "stream",
     "text": [
      "<class 'pandas.core.frame.DataFrame'>\n",
      "RangeIndex: 60 entries, 0 to 59\n",
      "Data columns (total 2 columns):\n",
      " #   Column     Non-Null Count  Dtype \n",
      "---  ------     --------------  ----- \n",
      " 0   shop_name  60 non-null     object\n",
      " 1   shop_id    60 non-null     int64 \n",
      "dtypes: int64(1), object(1)\n",
      "memory usage: 1.1+ KB\n"
     ]
    }
   ],
   "source": [
    "shops.info()"
   ]
  },
  {
   "cell_type": "code",
   "execution_count": 8,
   "id": "a22b7e21",
   "metadata": {
    "execution": {
     "iopub.execute_input": "2024-04-22T08:03:50.017563Z",
     "iopub.status.busy": "2024-04-22T08:03:50.016614Z",
     "iopub.status.idle": "2024-04-22T08:03:50.027094Z",
     "shell.execute_reply": "2024-04-22T08:03:50.026020Z"
    },
    "papermill": {
     "duration": 0.020742,
     "end_time": "2024-04-22T08:03:50.029490",
     "exception": false,
     "start_time": "2024-04-22T08:03:50.008748",
     "status": "completed"
    },
    "tags": []
   },
   "outputs": [
    {
     "data": {
      "text/html": [
       "<div>\n",
       "<style scoped>\n",
       "    .dataframe tbody tr th:only-of-type {\n",
       "        vertical-align: middle;\n",
       "    }\n",
       "\n",
       "    .dataframe tbody tr th {\n",
       "        vertical-align: top;\n",
       "    }\n",
       "\n",
       "    .dataframe thead th {\n",
       "        text-align: right;\n",
       "    }\n",
       "</style>\n",
       "<table border=\"1\" class=\"dataframe\">\n",
       "  <thead>\n",
       "    <tr style=\"text-align: right;\">\n",
       "      <th></th>\n",
       "      <th>item_name</th>\n",
       "      <th>item_id</th>\n",
       "      <th>item_category_id</th>\n",
       "    </tr>\n",
       "  </thead>\n",
       "  <tbody>\n",
       "    <tr>\n",
       "      <th>0</th>\n",
       "      <td>! ВО ВЛАСТИ НАВАЖДЕНИЯ (ПЛАСТ.)         D</td>\n",
       "      <td>0</td>\n",
       "      <td>40</td>\n",
       "    </tr>\n",
       "    <tr>\n",
       "      <th>1</th>\n",
       "      <td>!ABBYY FineReader 12 Professional Edition Full...</td>\n",
       "      <td>1</td>\n",
       "      <td>76</td>\n",
       "    </tr>\n",
       "    <tr>\n",
       "      <th>2</th>\n",
       "      <td>***В ЛУЧАХ СЛАВЫ   (UNV)                    D</td>\n",
       "      <td>2</td>\n",
       "      <td>40</td>\n",
       "    </tr>\n",
       "    <tr>\n",
       "      <th>3</th>\n",
       "      <td>***ГОЛУБАЯ ВОЛНА  (Univ)                      D</td>\n",
       "      <td>3</td>\n",
       "      <td>40</td>\n",
       "    </tr>\n",
       "    <tr>\n",
       "      <th>4</th>\n",
       "      <td>***КОРОБКА (СТЕКЛО)                       D</td>\n",
       "      <td>4</td>\n",
       "      <td>40</td>\n",
       "    </tr>\n",
       "  </tbody>\n",
       "</table>\n",
       "</div>"
      ],
      "text/plain": [
       "                                           item_name  item_id  \\\n",
       "0          ! ВО ВЛАСТИ НАВАЖДЕНИЯ (ПЛАСТ.)         D        0   \n",
       "1  !ABBYY FineReader 12 Professional Edition Full...        1   \n",
       "2      ***В ЛУЧАХ СЛАВЫ   (UNV)                    D        2   \n",
       "3    ***ГОЛУБАЯ ВОЛНА  (Univ)                      D        3   \n",
       "4        ***КОРОБКА (СТЕКЛО)                       D        4   \n",
       "\n",
       "   item_category_id  \n",
       "0                40  \n",
       "1                76  \n",
       "2                40  \n",
       "3                40  \n",
       "4                40  "
      ]
     },
     "execution_count": 8,
     "metadata": {},
     "output_type": "execute_result"
    }
   ],
   "source": [
    "items.head()"
   ]
  },
  {
   "cell_type": "code",
   "execution_count": 9,
   "id": "31f3280b",
   "metadata": {
    "execution": {
     "iopub.execute_input": "2024-04-22T08:03:50.044836Z",
     "iopub.status.busy": "2024-04-22T08:03:50.044408Z",
     "iopub.status.idle": "2024-04-22T08:03:50.057846Z",
     "shell.execute_reply": "2024-04-22T08:03:50.056722Z"
    },
    "papermill": {
     "duration": 0.023993,
     "end_time": "2024-04-22T08:03:50.060262",
     "exception": false,
     "start_time": "2024-04-22T08:03:50.036269",
     "status": "completed"
    },
    "tags": []
   },
   "outputs": [
    {
     "name": "stdout",
     "output_type": "stream",
     "text": [
      "<class 'pandas.core.frame.DataFrame'>\n",
      "RangeIndex: 22170 entries, 0 to 22169\n",
      "Data columns (total 3 columns):\n",
      " #   Column            Non-Null Count  Dtype \n",
      "---  ------            --------------  ----- \n",
      " 0   item_name         22170 non-null  object\n",
      " 1   item_id           22170 non-null  int64 \n",
      " 2   item_category_id  22170 non-null  int64 \n",
      "dtypes: int64(2), object(1)\n",
      "memory usage: 519.7+ KB\n"
     ]
    }
   ],
   "source": [
    "items.info()"
   ]
  },
  {
   "cell_type": "code",
   "execution_count": 10,
   "id": "b0a0d609",
   "metadata": {
    "execution": {
     "iopub.execute_input": "2024-04-22T08:03:50.076342Z",
     "iopub.status.busy": "2024-04-22T08:03:50.075952Z",
     "iopub.status.idle": "2024-04-22T08:03:50.085555Z",
     "shell.execute_reply": "2024-04-22T08:03:50.084339Z"
    },
    "papermill": {
     "duration": 0.019841,
     "end_time": "2024-04-22T08:03:50.087894",
     "exception": false,
     "start_time": "2024-04-22T08:03:50.068053",
     "status": "completed"
    },
    "tags": []
   },
   "outputs": [
    {
     "data": {
      "text/html": [
       "<div>\n",
       "<style scoped>\n",
       "    .dataframe tbody tr th:only-of-type {\n",
       "        vertical-align: middle;\n",
       "    }\n",
       "\n",
       "    .dataframe tbody tr th {\n",
       "        vertical-align: top;\n",
       "    }\n",
       "\n",
       "    .dataframe thead th {\n",
       "        text-align: right;\n",
       "    }\n",
       "</style>\n",
       "<table border=\"1\" class=\"dataframe\">\n",
       "  <thead>\n",
       "    <tr style=\"text-align: right;\">\n",
       "      <th></th>\n",
       "      <th>item_category_name</th>\n",
       "      <th>item_category_id</th>\n",
       "    </tr>\n",
       "  </thead>\n",
       "  <tbody>\n",
       "    <tr>\n",
       "      <th>0</th>\n",
       "      <td>PC - Гарнитуры/Наушники</td>\n",
       "      <td>0</td>\n",
       "    </tr>\n",
       "    <tr>\n",
       "      <th>1</th>\n",
       "      <td>Аксессуары - PS2</td>\n",
       "      <td>1</td>\n",
       "    </tr>\n",
       "    <tr>\n",
       "      <th>2</th>\n",
       "      <td>Аксессуары - PS3</td>\n",
       "      <td>2</td>\n",
       "    </tr>\n",
       "    <tr>\n",
       "      <th>3</th>\n",
       "      <td>Аксессуары - PS4</td>\n",
       "      <td>3</td>\n",
       "    </tr>\n",
       "    <tr>\n",
       "      <th>4</th>\n",
       "      <td>Аксессуары - PSP</td>\n",
       "      <td>4</td>\n",
       "    </tr>\n",
       "  </tbody>\n",
       "</table>\n",
       "</div>"
      ],
      "text/plain": [
       "        item_category_name  item_category_id\n",
       "0  PC - Гарнитуры/Наушники                 0\n",
       "1         Аксессуары - PS2                 1\n",
       "2         Аксессуары - PS3                 2\n",
       "3         Аксессуары - PS4                 3\n",
       "4         Аксессуары - PSP                 4"
      ]
     },
     "execution_count": 10,
     "metadata": {},
     "output_type": "execute_result"
    }
   ],
   "source": [
    "item_categories.head()"
   ]
  },
  {
   "cell_type": "code",
   "execution_count": 11,
   "id": "9c178b21",
   "metadata": {
    "execution": {
     "iopub.execute_input": "2024-04-22T08:03:50.103438Z",
     "iopub.status.busy": "2024-04-22T08:03:50.103073Z",
     "iopub.status.idle": "2024-04-22T08:03:50.113495Z",
     "shell.execute_reply": "2024-04-22T08:03:50.112449Z"
    },
    "papermill": {
     "duration": 0.021127,
     "end_time": "2024-04-22T08:03:50.116094",
     "exception": false,
     "start_time": "2024-04-22T08:03:50.094967",
     "status": "completed"
    },
    "tags": []
   },
   "outputs": [
    {
     "name": "stdout",
     "output_type": "stream",
     "text": [
      "<class 'pandas.core.frame.DataFrame'>\n",
      "RangeIndex: 84 entries, 0 to 83\n",
      "Data columns (total 2 columns):\n",
      " #   Column              Non-Null Count  Dtype \n",
      "---  ------              --------------  ----- \n",
      " 0   item_category_name  84 non-null     object\n",
      " 1   item_category_id    84 non-null     int64 \n",
      "dtypes: int64(1), object(1)\n",
      "memory usage: 1.4+ KB\n"
     ]
    }
   ],
   "source": [
    "item_categories.info()"
   ]
  },
  {
   "cell_type": "code",
   "execution_count": 12,
   "id": "82f63fec",
   "metadata": {
    "execution": {
     "iopub.execute_input": "2024-04-22T08:03:50.132286Z",
     "iopub.status.busy": "2024-04-22T08:03:50.131927Z",
     "iopub.status.idle": "2024-04-22T08:03:50.141342Z",
     "shell.execute_reply": "2024-04-22T08:03:50.140312Z"
    },
    "papermill": {
     "duration": 0.02002,
     "end_time": "2024-04-22T08:03:50.143494",
     "exception": false,
     "start_time": "2024-04-22T08:03:50.123474",
     "status": "completed"
    },
    "tags": []
   },
   "outputs": [
    {
     "data": {
      "text/html": [
       "<div>\n",
       "<style scoped>\n",
       "    .dataframe tbody tr th:only-of-type {\n",
       "        vertical-align: middle;\n",
       "    }\n",
       "\n",
       "    .dataframe tbody tr th {\n",
       "        vertical-align: top;\n",
       "    }\n",
       "\n",
       "    .dataframe thead th {\n",
       "        text-align: right;\n",
       "    }\n",
       "</style>\n",
       "<table border=\"1\" class=\"dataframe\">\n",
       "  <thead>\n",
       "    <tr style=\"text-align: right;\">\n",
       "      <th></th>\n",
       "      <th>ID</th>\n",
       "      <th>shop_id</th>\n",
       "      <th>item_id</th>\n",
       "    </tr>\n",
       "  </thead>\n",
       "  <tbody>\n",
       "    <tr>\n",
       "      <th>0</th>\n",
       "      <td>0</td>\n",
       "      <td>5</td>\n",
       "      <td>5037</td>\n",
       "    </tr>\n",
       "    <tr>\n",
       "      <th>1</th>\n",
       "      <td>1</td>\n",
       "      <td>5</td>\n",
       "      <td>5320</td>\n",
       "    </tr>\n",
       "    <tr>\n",
       "      <th>2</th>\n",
       "      <td>2</td>\n",
       "      <td>5</td>\n",
       "      <td>5233</td>\n",
       "    </tr>\n",
       "    <tr>\n",
       "      <th>3</th>\n",
       "      <td>3</td>\n",
       "      <td>5</td>\n",
       "      <td>5232</td>\n",
       "    </tr>\n",
       "    <tr>\n",
       "      <th>4</th>\n",
       "      <td>4</td>\n",
       "      <td>5</td>\n",
       "      <td>5268</td>\n",
       "    </tr>\n",
       "  </tbody>\n",
       "</table>\n",
       "</div>"
      ],
      "text/plain": [
       "   ID  shop_id  item_id\n",
       "0   0        5     5037\n",
       "1   1        5     5320\n",
       "2   2        5     5233\n",
       "3   3        5     5232\n",
       "4   4        5     5268"
      ]
     },
     "execution_count": 12,
     "metadata": {},
     "output_type": "execute_result"
    }
   ],
   "source": [
    "test.head()"
   ]
  },
  {
   "cell_type": "code",
   "execution_count": 13,
   "id": "e9c34e87",
   "metadata": {
    "execution": {
     "iopub.execute_input": "2024-04-22T08:03:50.159869Z",
     "iopub.status.busy": "2024-04-22T08:03:50.159313Z",
     "iopub.status.idle": "2024-04-22T08:03:50.170457Z",
     "shell.execute_reply": "2024-04-22T08:03:50.169426Z"
    },
    "papermill": {
     "duration": 0.022103,
     "end_time": "2024-04-22T08:03:50.172959",
     "exception": false,
     "start_time": "2024-04-22T08:03:50.150856",
     "status": "completed"
    },
    "tags": []
   },
   "outputs": [
    {
     "name": "stdout",
     "output_type": "stream",
     "text": [
      "<class 'pandas.core.frame.DataFrame'>\n",
      "RangeIndex: 214200 entries, 0 to 214199\n",
      "Data columns (total 3 columns):\n",
      " #   Column   Non-Null Count   Dtype\n",
      "---  ------   --------------   -----\n",
      " 0   ID       214200 non-null  int64\n",
      " 1   shop_id  214200 non-null  int64\n",
      " 2   item_id  214200 non-null  int64\n",
      "dtypes: int64(3)\n",
      "memory usage: 4.9 MB\n"
     ]
    }
   ],
   "source": [
    "test.info()"
   ]
  },
  {
   "cell_type": "code",
   "execution_count": 14,
   "id": "6ea1dd2f",
   "metadata": {
    "execution": {
     "iopub.execute_input": "2024-04-22T08:03:50.189320Z",
     "iopub.status.busy": "2024-04-22T08:03:50.188960Z",
     "iopub.status.idle": "2024-04-22T08:03:51.893124Z",
     "shell.execute_reply": "2024-04-22T08:03:51.892032Z"
    },
    "papermill": {
     "duration": 1.715021,
     "end_time": "2024-04-22T08:03:51.895448",
     "exception": false,
     "start_time": "2024-04-22T08:03:50.180427",
     "status": "completed"
    },
    "tags": []
   },
   "outputs": [
    {
     "data": {
      "text/html": [
       "<div>\n",
       "<style scoped>\n",
       "    .dataframe tbody tr th:only-of-type {\n",
       "        vertical-align: middle;\n",
       "    }\n",
       "\n",
       "    .dataframe tbody tr th {\n",
       "        vertical-align: top;\n",
       "    }\n",
       "\n",
       "    .dataframe thead th {\n",
       "        text-align: right;\n",
       "    }\n",
       "</style>\n",
       "<table border=\"1\" class=\"dataframe\">\n",
       "  <thead>\n",
       "    <tr style=\"text-align: right;\">\n",
       "      <th></th>\n",
       "      <th>date</th>\n",
       "      <th>date_block_num</th>\n",
       "      <th>shop_id</th>\n",
       "      <th>item_id</th>\n",
       "      <th>item_price</th>\n",
       "      <th>item_cnt_day</th>\n",
       "      <th>shop_name</th>\n",
       "      <th>item_name</th>\n",
       "      <th>item_category_id</th>\n",
       "      <th>item_category_name</th>\n",
       "    </tr>\n",
       "  </thead>\n",
       "  <tbody>\n",
       "    <tr>\n",
       "      <th>0</th>\n",
       "      <td>02.01.2013</td>\n",
       "      <td>0</td>\n",
       "      <td>59</td>\n",
       "      <td>22154</td>\n",
       "      <td>999.00</td>\n",
       "      <td>1.0</td>\n",
       "      <td>Ярославль ТЦ \"Альтаир\"</td>\n",
       "      <td>ЯВЛЕНИЕ 2012 (BD)</td>\n",
       "      <td>37</td>\n",
       "      <td>Кино - Blu-Ray</td>\n",
       "    </tr>\n",
       "    <tr>\n",
       "      <th>1</th>\n",
       "      <td>03.01.2013</td>\n",
       "      <td>0</td>\n",
       "      <td>25</td>\n",
       "      <td>2552</td>\n",
       "      <td>899.00</td>\n",
       "      <td>1.0</td>\n",
       "      <td>Москва ТРК \"Атриум\"</td>\n",
       "      <td>DEEP PURPLE  The House Of Blue Light  LP</td>\n",
       "      <td>58</td>\n",
       "      <td>Музыка - Винил</td>\n",
       "    </tr>\n",
       "    <tr>\n",
       "      <th>2</th>\n",
       "      <td>05.01.2013</td>\n",
       "      <td>0</td>\n",
       "      <td>25</td>\n",
       "      <td>2552</td>\n",
       "      <td>899.00</td>\n",
       "      <td>-1.0</td>\n",
       "      <td>Москва ТРК \"Атриум\"</td>\n",
       "      <td>DEEP PURPLE  The House Of Blue Light  LP</td>\n",
       "      <td>58</td>\n",
       "      <td>Музыка - Винил</td>\n",
       "    </tr>\n",
       "    <tr>\n",
       "      <th>3</th>\n",
       "      <td>06.01.2013</td>\n",
       "      <td>0</td>\n",
       "      <td>25</td>\n",
       "      <td>2554</td>\n",
       "      <td>1709.05</td>\n",
       "      <td>1.0</td>\n",
       "      <td>Москва ТРК \"Атриум\"</td>\n",
       "      <td>DEEP PURPLE  Who Do You Think We Are  LP</td>\n",
       "      <td>58</td>\n",
       "      <td>Музыка - Винил</td>\n",
       "    </tr>\n",
       "    <tr>\n",
       "      <th>4</th>\n",
       "      <td>15.01.2013</td>\n",
       "      <td>0</td>\n",
       "      <td>25</td>\n",
       "      <td>2555</td>\n",
       "      <td>1099.00</td>\n",
       "      <td>1.0</td>\n",
       "      <td>Москва ТРК \"Атриум\"</td>\n",
       "      <td>DEEP PURPLE 30 Very Best Of 2CD (Фирм.)</td>\n",
       "      <td>56</td>\n",
       "      <td>Музыка - CD фирменного производства</td>\n",
       "    </tr>\n",
       "  </tbody>\n",
       "</table>\n",
       "</div>"
      ],
      "text/plain": [
       "         date  date_block_num  shop_id  item_id  item_price  item_cnt_day  \\\n",
       "0  02.01.2013               0       59    22154      999.00           1.0   \n",
       "1  03.01.2013               0       25     2552      899.00           1.0   \n",
       "2  05.01.2013               0       25     2552      899.00          -1.0   \n",
       "3  06.01.2013               0       25     2554     1709.05           1.0   \n",
       "4  15.01.2013               0       25     2555     1099.00           1.0   \n",
       "\n",
       "                shop_name                                 item_name  \\\n",
       "0  Ярославль ТЦ \"Альтаир\"                         ЯВЛЕНИЕ 2012 (BD)   \n",
       "1     Москва ТРК \"Атриум\"  DEEP PURPLE  The House Of Blue Light  LP   \n",
       "2     Москва ТРК \"Атриум\"  DEEP PURPLE  The House Of Blue Light  LP   \n",
       "3     Москва ТРК \"Атриум\"  DEEP PURPLE  Who Do You Think We Are  LP   \n",
       "4     Москва ТРК \"Атриум\"   DEEP PURPLE 30 Very Best Of 2CD (Фирм.)   \n",
       "\n",
       "   item_category_id                   item_category_name  \n",
       "0                37                       Кино - Blu-Ray  \n",
       "1                58                       Музыка - Винил  \n",
       "2                58                       Музыка - Винил  \n",
       "3                58                       Музыка - Винил  \n",
       "4                56  Музыка - CD фирменного производства  "
      ]
     },
     "execution_count": 14,
     "metadata": {},
     "output_type": "execute_result"
    }
   ],
   "source": [
    "train = sales_train.merge(shops,on = 'shop_id', how = 'left')\n",
    "train = train.merge(items, on = 'item_id', how = 'left')\n",
    "train = train.merge(item_categories, on = 'item_category_id', how = 'left')\n",
    "\n",
    "train.head()"
   ]
  },
  {
   "cell_type": "code",
   "execution_count": 15,
   "id": "1af31a97",
   "metadata": {
    "execution": {
     "iopub.execute_input": "2024-04-22T08:03:51.912411Z",
     "iopub.status.busy": "2024-04-22T08:03:51.912060Z",
     "iopub.status.idle": "2024-04-22T08:03:53.867002Z",
     "shell.execute_reply": "2024-04-22T08:03:53.865875Z"
    },
    "papermill": {
     "duration": 1.966417,
     "end_time": "2024-04-22T08:03:53.869569",
     "exception": false,
     "start_time": "2024-04-22T08:03:51.903152",
     "status": "completed"
    },
    "tags": []
   },
   "outputs": [
    {
     "name": "stdout",
     "output_type": "stream",
     "text": [
      "데이터셋 형성 : (2935849, 10)\n"
     ]
    },
    {
     "data": {
      "text/html": [
       "<div>\n",
       "<style scoped>\n",
       "    .dataframe tbody tr th:only-of-type {\n",
       "        vertical-align: middle;\n",
       "    }\n",
       "\n",
       "    .dataframe tbody tr th {\n",
       "        vertical-align: top;\n",
       "    }\n",
       "\n",
       "    .dataframe thead th {\n",
       "        text-align: right;\n",
       "    }\n",
       "</style>\n",
       "<table border=\"1\" class=\"dataframe\">\n",
       "  <thead>\n",
       "    <tr style=\"text-align: right;\">\n",
       "      <th></th>\n",
       "      <th>피처</th>\n",
       "      <th>데이터 타입</th>\n",
       "      <th>결측값 갯수</th>\n",
       "      <th>고윳값 갯수</th>\n",
       "      <th>첫 번째 값</th>\n",
       "      <th>첫 번쨰 값</th>\n",
       "    </tr>\n",
       "  </thead>\n",
       "  <tbody>\n",
       "    <tr>\n",
       "      <th>0</th>\n",
       "      <td>date</td>\n",
       "      <td>object</td>\n",
       "      <td>0</td>\n",
       "      <td>1034</td>\n",
       "      <td>02.01.2013</td>\n",
       "      <td>03.01.2013</td>\n",
       "    </tr>\n",
       "    <tr>\n",
       "      <th>1</th>\n",
       "      <td>date_block_num</td>\n",
       "      <td>int64</td>\n",
       "      <td>0</td>\n",
       "      <td>34</td>\n",
       "      <td>0</td>\n",
       "      <td>0</td>\n",
       "    </tr>\n",
       "    <tr>\n",
       "      <th>2</th>\n",
       "      <td>shop_id</td>\n",
       "      <td>int64</td>\n",
       "      <td>0</td>\n",
       "      <td>60</td>\n",
       "      <td>59</td>\n",
       "      <td>25</td>\n",
       "    </tr>\n",
       "    <tr>\n",
       "      <th>3</th>\n",
       "      <td>item_id</td>\n",
       "      <td>int64</td>\n",
       "      <td>0</td>\n",
       "      <td>21807</td>\n",
       "      <td>22154</td>\n",
       "      <td>2552</td>\n",
       "    </tr>\n",
       "    <tr>\n",
       "      <th>4</th>\n",
       "      <td>item_price</td>\n",
       "      <td>float64</td>\n",
       "      <td>0</td>\n",
       "      <td>19993</td>\n",
       "      <td>999.0</td>\n",
       "      <td>899.0</td>\n",
       "    </tr>\n",
       "    <tr>\n",
       "      <th>5</th>\n",
       "      <td>item_cnt_day</td>\n",
       "      <td>float64</td>\n",
       "      <td>0</td>\n",
       "      <td>198</td>\n",
       "      <td>1.0</td>\n",
       "      <td>1.0</td>\n",
       "    </tr>\n",
       "    <tr>\n",
       "      <th>6</th>\n",
       "      <td>shop_name</td>\n",
       "      <td>object</td>\n",
       "      <td>0</td>\n",
       "      <td>60</td>\n",
       "      <td>Ярославль ТЦ \"Альтаир\"</td>\n",
       "      <td>Москва ТРК \"Атриум\"</td>\n",
       "    </tr>\n",
       "    <tr>\n",
       "      <th>7</th>\n",
       "      <td>item_name</td>\n",
       "      <td>object</td>\n",
       "      <td>0</td>\n",
       "      <td>21807</td>\n",
       "      <td>ЯВЛЕНИЕ 2012 (BD)</td>\n",
       "      <td>DEEP PURPLE  The House Of Blue Light  LP</td>\n",
       "    </tr>\n",
       "    <tr>\n",
       "      <th>8</th>\n",
       "      <td>item_category_id</td>\n",
       "      <td>int64</td>\n",
       "      <td>0</td>\n",
       "      <td>84</td>\n",
       "      <td>37</td>\n",
       "      <td>58</td>\n",
       "    </tr>\n",
       "    <tr>\n",
       "      <th>9</th>\n",
       "      <td>item_category_name</td>\n",
       "      <td>object</td>\n",
       "      <td>0</td>\n",
       "      <td>84</td>\n",
       "      <td>Кино - Blu-Ray</td>\n",
       "      <td>Музыка - Винил</td>\n",
       "    </tr>\n",
       "  </tbody>\n",
       "</table>\n",
       "</div>"
      ],
      "text/plain": [
       "                   피처   데이터 타입  결측값 갯수  고윳값 갯수                  첫 번째 값  \\\n",
       "0                date   object       0    1034              02.01.2013   \n",
       "1      date_block_num    int64       0      34                       0   \n",
       "2             shop_id    int64       0      60                      59   \n",
       "3             item_id    int64       0   21807                   22154   \n",
       "4          item_price  float64       0   19993                   999.0   \n",
       "5        item_cnt_day  float64       0     198                     1.0   \n",
       "6           shop_name   object       0      60  Ярославль ТЦ \"Альтаир\"   \n",
       "7           item_name   object       0   21807       ЯВЛЕНИЕ 2012 (BD)   \n",
       "8    item_category_id    int64       0      84                      37   \n",
       "9  item_category_name   object       0      84          Кино - Blu-Ray   \n",
       "\n",
       "                                     첫 번쨰 값  \n",
       "0                                03.01.2013  \n",
       "1                                         0  \n",
       "2                                        25  \n",
       "3                                      2552  \n",
       "4                                     899.0  \n",
       "5                                       1.0  \n",
       "6                       Москва ТРК \"Атриум\"  \n",
       "7  DEEP PURPLE  The House Of Blue Light  LP  \n",
       "8                                        58  \n",
       "9                            Музыка - Винил  "
      ]
     },
     "execution_count": 15,
     "metadata": {},
     "output_type": "execute_result"
    }
   ],
   "source": [
    "def resumetable(df) :\n",
    "    print(f'데이터셋 형성 : {df.shape}')\n",
    "    summary = pd.DataFrame(df.dtypes, columns = ['데이터 타입'])\n",
    "    summary = summary.reset_index()\n",
    "    summary = summary.rename(columns = {'index' : '피처'})\n",
    "    summary['결측값 갯수'] = df.isnull().sum().values\n",
    "    summary['고윳값 갯수'] = df.nunique().values\n",
    "    summary['첫 번째 값'] = df.loc[0].values\n",
    "    summary['첫 번쨰 값'] = df.loc[1].values\n",
    "    \n",
    "    return summary\n",
    "    \n",
    "resumetable(train)"
   ]
  },
  {
   "cell_type": "code",
   "execution_count": 16,
   "id": "e77df450",
   "metadata": {
    "execution": {
     "iopub.execute_input": "2024-04-22T08:03:53.887251Z",
     "iopub.status.busy": "2024-04-22T08:03:53.886890Z",
     "iopub.status.idle": "2024-04-22T08:03:55.418086Z",
     "shell.execute_reply": "2024-04-22T08:03:55.417088Z"
    },
    "papermill": {
     "duration": 1.542705,
     "end_time": "2024-04-22T08:03:55.420419",
     "exception": false,
     "start_time": "2024-04-22T08:03:53.877714",
     "status": "completed"
    },
    "tags": []
   },
   "outputs": [
    {
     "data": {
      "image/png": "[encoded data removed]",
      "text/plain": [
       "<Figure size 640x480 with 1 Axes>"
      ]
     },
     "metadata": {},
     "output_type": "display_data"
    }
   ],
   "source": [
    "sns.boxplot(y = 'item_cnt_day', data = train);"
   ]
  },
  {
   "cell_type": "code",
   "execution_count": 17,
   "id": "11794662",
   "metadata": {
    "execution": {
     "iopub.execute_input": "2024-04-22T08:03:55.440187Z",
     "iopub.status.busy": "2024-04-22T08:03:55.439018Z",
     "iopub.status.idle": "2024-04-22T08:03:56.713234Z",
     "shell.execute_reply": "2024-04-22T08:03:56.712218Z"
    },
    "papermill": {
     "duration": 1.286255,
     "end_time": "2024-04-22T08:03:56.715389",
     "exception": false,
     "start_time": "2024-04-22T08:03:55.429134",
     "status": "completed"
    },
    "tags": []
   },
   "outputs": [
    {
     "data": {
      "image/png": "[encoded data removed]",
      "text/plain": [
       "<Figure size 640x480 with 1 Axes>"
      ]
     },
     "metadata": {},
     "output_type": "display_data"
    }
   ],
   "source": [
    "sns.boxplot(y = 'item_price', data = train);"
   ]
  },
  {
   "cell_type": "code",
   "execution_count": 18,
   "id": "1027e9f0",
   "metadata": {
    "execution": {
     "iopub.execute_input": "2024-04-22T08:03:56.734110Z",
     "iopub.status.busy": "2024-04-22T08:03:56.733743Z",
     "iopub.status.idle": "2024-04-22T08:03:56.815964Z",
     "shell.execute_reply": "2024-04-22T08:03:56.814940Z"
    },
    "papermill": {
     "duration": 0.094232,
     "end_time": "2024-04-22T08:03:56.818348",
     "exception": false,
     "start_time": "2024-04-22T08:03:56.724116",
     "status": "completed"
    },
    "tags": []
   },
   "outputs": [
    {
     "data": {
      "text/html": [
       "<div>\n",
       "<style scoped>\n",
       "    .dataframe tbody tr th:only-of-type {\n",
       "        vertical-align: middle;\n",
       "    }\n",
       "\n",
       "    .dataframe tbody tr th {\n",
       "        vertical-align: top;\n",
       "    }\n",
       "\n",
       "    .dataframe thead th {\n",
       "        text-align: right;\n",
       "    }\n",
       "</style>\n",
       "<table border=\"1\" class=\"dataframe\">\n",
       "  <thead>\n",
       "    <tr style=\"text-align: right;\">\n",
       "      <th></th>\n",
       "      <th>date_block_num</th>\n",
       "      <th>item_cnt_day</th>\n",
       "    </tr>\n",
       "  </thead>\n",
       "  <tbody>\n",
       "    <tr>\n",
       "      <th>0</th>\n",
       "      <td>0</td>\n",
       "      <td>131479.0</td>\n",
       "    </tr>\n",
       "    <tr>\n",
       "      <th>1</th>\n",
       "      <td>1</td>\n",
       "      <td>128090.0</td>\n",
       "    </tr>\n",
       "    <tr>\n",
       "      <th>2</th>\n",
       "      <td>2</td>\n",
       "      <td>147142.0</td>\n",
       "    </tr>\n",
       "    <tr>\n",
       "      <th>3</th>\n",
       "      <td>3</td>\n",
       "      <td>107190.0</td>\n",
       "    </tr>\n",
       "    <tr>\n",
       "      <th>4</th>\n",
       "      <td>4</td>\n",
       "      <td>106970.0</td>\n",
       "    </tr>\n",
       "    <tr>\n",
       "      <th>5</th>\n",
       "      <td>5</td>\n",
       "      <td>125381.0</td>\n",
       "    </tr>\n",
       "    <tr>\n",
       "      <th>6</th>\n",
       "      <td>6</td>\n",
       "      <td>116966.0</td>\n",
       "    </tr>\n",
       "    <tr>\n",
       "      <th>7</th>\n",
       "      <td>7</td>\n",
       "      <td>125291.0</td>\n",
       "    </tr>\n",
       "    <tr>\n",
       "      <th>8</th>\n",
       "      <td>8</td>\n",
       "      <td>133332.0</td>\n",
       "    </tr>\n",
       "    <tr>\n",
       "      <th>9</th>\n",
       "      <td>9</td>\n",
       "      <td>127541.0</td>\n",
       "    </tr>\n",
       "    <tr>\n",
       "      <th>10</th>\n",
       "      <td>10</td>\n",
       "      <td>130009.0</td>\n",
       "    </tr>\n",
       "    <tr>\n",
       "      <th>11</th>\n",
       "      <td>11</td>\n",
       "      <td>183342.0</td>\n",
       "    </tr>\n",
       "    <tr>\n",
       "      <th>12</th>\n",
       "      <td>12</td>\n",
       "      <td>116899.0</td>\n",
       "    </tr>\n",
       "    <tr>\n",
       "      <th>13</th>\n",
       "      <td>13</td>\n",
       "      <td>109687.0</td>\n",
       "    </tr>\n",
       "    <tr>\n",
       "      <th>14</th>\n",
       "      <td>14</td>\n",
       "      <td>115297.0</td>\n",
       "    </tr>\n",
       "    <tr>\n",
       "      <th>15</th>\n",
       "      <td>15</td>\n",
       "      <td>96556.0</td>\n",
       "    </tr>\n",
       "    <tr>\n",
       "      <th>16</th>\n",
       "      <td>16</td>\n",
       "      <td>97790.0</td>\n",
       "    </tr>\n",
       "    <tr>\n",
       "      <th>17</th>\n",
       "      <td>17</td>\n",
       "      <td>97429.0</td>\n",
       "    </tr>\n",
       "    <tr>\n",
       "      <th>18</th>\n",
       "      <td>18</td>\n",
       "      <td>91280.0</td>\n",
       "    </tr>\n",
       "    <tr>\n",
       "      <th>19</th>\n",
       "      <td>19</td>\n",
       "      <td>102721.0</td>\n",
       "    </tr>\n",
       "    <tr>\n",
       "      <th>20</th>\n",
       "      <td>20</td>\n",
       "      <td>99208.0</td>\n",
       "    </tr>\n",
       "    <tr>\n",
       "      <th>21</th>\n",
       "      <td>21</td>\n",
       "      <td>107422.0</td>\n",
       "    </tr>\n",
       "    <tr>\n",
       "      <th>22</th>\n",
       "      <td>22</td>\n",
       "      <td>117845.0</td>\n",
       "    </tr>\n",
       "    <tr>\n",
       "      <th>23</th>\n",
       "      <td>23</td>\n",
       "      <td>168755.0</td>\n",
       "    </tr>\n",
       "    <tr>\n",
       "      <th>24</th>\n",
       "      <td>24</td>\n",
       "      <td>110971.0</td>\n",
       "    </tr>\n",
       "    <tr>\n",
       "      <th>25</th>\n",
       "      <td>25</td>\n",
       "      <td>84198.0</td>\n",
       "    </tr>\n",
       "    <tr>\n",
       "      <th>26</th>\n",
       "      <td>26</td>\n",
       "      <td>82014.0</td>\n",
       "    </tr>\n",
       "    <tr>\n",
       "      <th>27</th>\n",
       "      <td>27</td>\n",
       "      <td>77827.0</td>\n",
       "    </tr>\n",
       "    <tr>\n",
       "      <th>28</th>\n",
       "      <td>28</td>\n",
       "      <td>72295.0</td>\n",
       "    </tr>\n",
       "    <tr>\n",
       "      <th>29</th>\n",
       "      <td>29</td>\n",
       "      <td>64114.0</td>\n",
       "    </tr>\n",
       "    <tr>\n",
       "      <th>30</th>\n",
       "      <td>30</td>\n",
       "      <td>63187.0</td>\n",
       "    </tr>\n",
       "    <tr>\n",
       "      <th>31</th>\n",
       "      <td>31</td>\n",
       "      <td>66079.0</td>\n",
       "    </tr>\n",
       "    <tr>\n",
       "      <th>32</th>\n",
       "      <td>32</td>\n",
       "      <td>72843.0</td>\n",
       "    </tr>\n",
       "    <tr>\n",
       "      <th>33</th>\n",
       "      <td>33</td>\n",
       "      <td>71056.0</td>\n",
       "    </tr>\n",
       "  </tbody>\n",
       "</table>\n",
       "</div>"
      ],
      "text/plain": [
       "    date_block_num  item_cnt_day\n",
       "0                0      131479.0\n",
       "1                1      128090.0\n",
       "2                2      147142.0\n",
       "3                3      107190.0\n",
       "4                4      106970.0\n",
       "5                5      125381.0\n",
       "6                6      116966.0\n",
       "7                7      125291.0\n",
       "8                8      133332.0\n",
       "9                9      127541.0\n",
       "10              10      130009.0\n",
       "11              11      183342.0\n",
       "12              12      116899.0\n",
       "13              13      109687.0\n",
       "14              14      115297.0\n",
       "15              15       96556.0\n",
       "16              16       97790.0\n",
       "17              17       97429.0\n",
       "18              18       91280.0\n",
       "19              19      102721.0\n",
       "20              20       99208.0\n",
       "21              21      107422.0\n",
       "22              22      117845.0\n",
       "23              23      168755.0\n",
       "24              24      110971.0\n",
       "25              25       84198.0\n",
       "26              26       82014.0\n",
       "27              27       77827.0\n",
       "28              28       72295.0\n",
       "29              29       64114.0\n",
       "30              30       63187.0\n",
       "31              31       66079.0\n",
       "32              32       72843.0\n",
       "33              33       71056.0"
      ]
     },
     "execution_count": 18,
     "metadata": {},
     "output_type": "execute_result"
    }
   ],
   "source": [
    "group = train.groupby('date_block_num').agg({'item_cnt_day' : 'sum'})\n",
    "group.reset_index()"
   ]
  },
  {
   "cell_type": "code",
   "execution_count": 19,
   "id": "4cfd4bed",
   "metadata": {
    "execution": {
     "iopub.execute_input": "2024-04-22T08:03:56.837602Z",
     "iopub.status.busy": "2024-04-22T08:03:56.837241Z",
     "iopub.status.idle": "2024-04-22T08:03:57.518944Z",
     "shell.execute_reply": "2024-04-22T08:03:57.517901Z"
    },
    "papermill": {
     "duration": 0.694424,
     "end_time": "2024-04-22T08:03:57.521656",
     "exception": false,
     "start_time": "2024-04-22T08:03:56.827232",
     "status": "completed"
    },
    "tags": []
   },
   "outputs": [
    {
     "data": {
      "image/png": "[encoded data removed]",
      "text/plain": [
       "<Figure size 1500x700 with 1 Axes>"
      ]
     },
     "metadata": {},
     "output_type": "display_data"
    }
   ],
   "source": [
    "mpl.rc('font', size = 13)\n",
    "figure, ax = plt.subplots()\n",
    "figure.set_size_inches(15, 7)\n",
    "\n",
    "group_month_num = train.groupby('date_block_num').agg({'item_cnt_day' : 'sum'})\n",
    "group_month_num = group_month_num.reset_index()\n",
    "\n",
    "####막대그래프 표현\n",
    "sns.barplot(x = 'date_block_num', y = 'item_cnt_day', data = group_month_num)\n",
    "#######제목 및 x,y축 표현 \n",
    "ax.set(title = 'Distrubution of monthly item counts by date block number',\n",
    "       xlabel = 'Date block number',\n",
    "       ylabel = 'Monthly item counts');"
   ]
  },
  {
   "cell_type": "code",
   "execution_count": 20,
   "id": "c6c5667f",
   "metadata": {
    "execution": {
     "iopub.execute_input": "2024-04-22T08:03:57.543208Z",
     "iopub.status.busy": "2024-04-22T08:03:57.542835Z",
     "iopub.status.idle": "2024-04-22T08:03:57.566211Z",
     "shell.execute_reply": "2024-04-22T08:03:57.565059Z"
    },
    "papermill": {
     "duration": 0.037039,
     "end_time": "2024-04-22T08:03:57.568910",
     "exception": false,
     "start_time": "2024-04-22T08:03:57.531871",
     "status": "completed"
    },
    "tags": []
   },
   "outputs": [
    {
     "data": {
      "text/plain": [
       "84"
      ]
     },
     "execution_count": 20,
     "metadata": {},
     "output_type": "execute_result"
    }
   ],
   "source": [
    "train['item_category_id'].nunique()"
   ]
  },
  {
   "cell_type": "code",
   "execution_count": 21,
   "id": "afb03f7d",
   "metadata": {
    "execution": {
     "iopub.execute_input": "2024-04-22T08:03:57.590205Z",
     "iopub.status.busy": "2024-04-22T08:03:57.589844Z",
     "iopub.status.idle": "2024-04-22T08:03:58.316094Z",
     "shell.execute_reply": "2024-04-22T08:03:58.315018Z"
    },
    "papermill": {
     "duration": 0.739884,
     "end_time": "2024-04-22T08:03:58.318606",
     "exception": false,
     "start_time": "2024-04-22T08:03:57.578722",
     "status": "completed"
    },
    "tags": []
   },
   "outputs": [
    {
     "data": {
      "image/png": "[encoded data removed]",
      "text/plain": [
       "<Figure size 1500x700 with 1 Axes>"
      ]
     },
     "metadata": {},
     "output_type": "display_data"
    }
   ],
   "source": [
    "figure, ax = plt.subplots()\n",
    "figure.set_size_inches(15,7)\n",
    "\n",
    "group_cat_sum = train.groupby('item_category_id').agg({'item_cnt_day' : 'sum'})\n",
    "group_cat_sum = group_cat_sum.reset_index()\n",
    "\n",
    "group_cat_sum = group_cat_sum[group_cat_sum['item_cnt_day'] > 10000]\n",
    "\n",
    "### x, y값 표현\n",
    "sns.barplot(x = 'item_category_id', y = 'item_cnt_day', data = group_cat_sum)\n",
    "### 제목 및 x,y축 표현 \n",
    "ax.set(title = 'Distrubution of total item counts by item category id',\n",
    "       xlabel = 'Item category id',\n",
    "       ylabel = 'Total item counts');\n",
    "ax.tick_params(axis = 'x', labelrotation = 90)"
   ]
  },
  {
   "cell_type": "code",
   "execution_count": 22,
   "id": "e71a05d1",
   "metadata": {
    "execution": {
     "iopub.execute_input": "2024-04-22T08:03:58.341460Z",
     "iopub.status.busy": "2024-04-22T08:03:58.341097Z",
     "iopub.status.idle": "2024-04-22T08:03:59.141119Z",
     "shell.execute_reply": "2024-04-22T08:03:59.139999Z"
    },
    "papermill": {
     "duration": 0.814537,
     "end_time": "2024-04-22T08:03:59.143770",
     "exception": false,
     "start_time": "2024-04-22T08:03:58.329233",
     "status": "completed"
    },
    "tags": []
   },
   "outputs": [
    {
     "data": {
      "image/png": "[encoded data removed]",
      "text/plain": [
       "<Figure size 1500x700 with 1 Axes>"
      ]
     },
     "metadata": {},
     "output_type": "display_data"
    }
   ],
   "source": [
    "figure, ax = plt.subplots()\n",
    "figure.set_size_inches(15,7)\n",
    "\n",
    "group_shop_num = train.groupby('shop_id').agg({'item_cnt_day' : 'sum'})\n",
    "group_shop_num = group_shop_num.reset_index()\n",
    "\n",
    "group_shop_num = group_shop_num[group_shop_num['item_cnt_day'] > 10000]\n",
    "\n",
    "#### x,y값 표현\n",
    "sns.barplot(x = 'shop_id', y = 'item_cnt_day', data = group_shop_num)\n",
    "\n",
    "ax.set(title = 'Distrubution of total item counts by shop id',\n",
    "       xlabel = 'Shop id',\n",
    "       ylabel = 'Toal item counts');\n",
    "ax.tick_params(axis = 'x', labelrotation = 90)"
   ]
  },
  {
   "cell_type": "markdown",
   "id": "a9be7ccf",
   "metadata": {
    "execution": {
     "iopub.execute_input": "2024-04-22T08:02:32.772962Z",
     "iopub.status.busy": "2024-04-22T08:02:32.772471Z",
     "iopub.status.idle": "2024-04-22T08:02:32.781833Z",
     "shell.execute_reply": "2024-04-22T08:02:32.780426Z",
     "shell.execute_reply.started": "2024-04-22T08:02:32.772924Z"
    },
    "papermill": {
     "duration": 0.011843,
     "end_time": "2024-04-22T08:03:59.167020",
     "exception": false,
     "start_time": "2024-04-22T08:03:59.155177",
     "status": "completed"
    },
    "tags": []
   },
   "source": [
    "figure, "
   ]
  },
  {
   "cell_type": "markdown",
   "id": "0383bb2c",
   "metadata": {
    "execution": {
     "iopub.execute_input": "2024-04-22T08:02:32.772962Z",
     "iopub.status.busy": "2024-04-22T08:02:32.772471Z",
     "iopub.status.idle": "2024-04-22T08:02:32.781833Z",
     "shell.execute_reply": "2024-04-22T08:02:32.780426Z",
     "shell.execute_reply.started": "2024-04-22T08:02:32.772924Z"
    },
    "papermill": {
     "duration": 0.011478,
     "end_time": "2024-04-22T08:03:59.190202",
     "exception": false,
     "start_time": "2024-04-22T08:03:59.178724",
     "status": "completed"
    },
    "tags": []
   },
   "source": []
  }
 ],
 "metadata": {
  "kaggle": {
   "accelerator": "none",
   "dataSources": [
    {
     "databundleVersionId": 868304,
     "sourceId": 8587,
     "sourceType": "competition"
    }
   ],
   "dockerImageVersionId": 30698,
   "isGpuEnabled": false,
   "isInternetEnabled": true,
   "language": "python",
   "sourceType": "notebook"
  },
  "kernelspec": {
   "display_name": "Python 3",
   "language": "python",
   "name": "python3"
  },
  "language_info": {
   "codemirror_mode": {
    "name": "ipython",
    "version": 3
   },
   "file_extension": ".py",
   "mimetype": "text/x-python",
   "name": "python",
   "nbconvert_exporter": "python",
   "pygments_lexer": "ipython3",
   "version": "3.10.13"
  },
  "papermill": {
   "default_parameters": {},
   "duration": 17.535465,
   "end_time": "2024-04-22T08:03:59.823023",
   "environment_variables": {},
   "exception": null,
   "input_path": "__notebook__.ipynb",
   "output_path": "__notebook__.ipynb",
   "parameters": {},
   "start_time": "2024-04-22T08:03:42.287558",
   "version": "2.5.0"
  }
 },
 "nbformat": 4,
 "nbformat_minor": 5
}
