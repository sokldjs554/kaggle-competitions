{
 "cells": [
  {
   "cell_type": "code",
   "execution_count": 1,
   "id": "03f63a79",
   "metadata": {
    "_cell_guid": "b1076dfc-b9ad-4769-8c92-a6c4dae69d19",
    "_uuid": "8f2839f25d086af736a60e9eeb907d3b93b6e0e5",
    "execution": {
     "iopub.execute_input": "2024-02-16T07:30:19.160439Z",
     "iopub.status.busy": "2024-02-16T07:30:19.159711Z",
     "iopub.status.idle": "2024-02-16T07:30:20.194220Z",
     "shell.execute_reply": "2024-02-16T07:30:20.192913Z"
    },
    "papermill": {
     "duration": 1.046526,
     "end_time": "2024-02-16T07:30:20.197291",
     "exception": false,
     "start_time": "2024-02-16T07:30:19.150765",
     "status": "completed"
    },
    "tags": []
   },
   "outputs": [
    {
     "name": "stdout",
     "output_type": "stream",
     "text": [
      "/kaggle/input/spaceship-titanic/sample_submission.csv\n",
      "/kaggle/input/spaceship-titanic/train.csv\n",
      "/kaggle/input/spaceship-titanic/test.csv\n"
     ]
    }
   ],
   "source": [
    "# This Python 3 environment comes with many helpful analytics libraries installed\n",
    "# It is defined by the kaggle/python Docker image: https://github.com/kaggle/docker-python\n",
    "# For example, here's several helpful packages to load\n",
    "\n",
    "import numpy as np # linear algebra\n",
    "import pandas as pd # data processing, CSV file I/O (e.g. pd.read_csv)\n",
    "\n",
    "# Input data files are available in the read-only \"../input/\" directory\n",
    "# For example, running this (by clicking run or pressing Shift+Enter) will list all files under the input directory\n",
    "\n",
    "import os\n",
    "for dirname, _, filenames in os.walk('/kaggle/input'):\n",
    "    for filename in filenames:\n",
    "        print(os.path.join(dirname, filename))\n",
    "\n",
    "# You can write up to 20GB to the current directory (/kaggle/working/) that gets preserved as output when you create a version using \"Save & Run All\" \n",
    "# You can also write temporary files to /kaggle/temp/, but they won't be saved outside of the current session"
   ]
  },
  {
   "cell_type": "code",
   "execution_count": 2,
   "id": "2ca5a5e2",
   "metadata": {
    "execution": {
     "iopub.execute_input": "2024-02-16T07:30:20.213680Z",
     "iopub.status.busy": "2024-02-16T07:30:20.211749Z",
     "iopub.status.idle": "2024-02-16T07:30:22.623680Z",
     "shell.execute_reply": "2024-02-16T07:30:22.622526Z"
    },
    "papermill": {
     "duration": 2.422736,
     "end_time": "2024-02-16T07:30:22.626277",
     "exception": false,
     "start_time": "2024-02-16T07:30:20.203541",
     "status": "completed"
    },
    "tags": []
   },
   "outputs": [],
   "source": [
    "import pandas as pd\n",
    "import numpy as np\n",
    "import matplotlib.pyplot as plt\n",
    "import seaborn as sns\n",
    "from sklearn.ensemble import RandomForestClassifier\n",
    "from sklearn.preprocessing import OneHotEncoder\n",
    "from sklearn.preprocessing import LabelEncoder\n",
    "from sklearn.impute import SimpleImputer"
   ]
  },
  {
   "cell_type": "code",
   "execution_count": 3,
   "id": "215b2f4c",
   "metadata": {
    "execution": {
     "iopub.execute_input": "2024-02-16T07:30:22.641130Z",
     "iopub.status.busy": "2024-02-16T07:30:22.639760Z",
     "iopub.status.idle": "2024-02-16T07:30:22.734897Z",
     "shell.execute_reply": "2024-02-16T07:30:22.733258Z"
    },
    "papermill": {
     "duration": 0.105607,
     "end_time": "2024-02-16T07:30:22.737849",
     "exception": false,
     "start_time": "2024-02-16T07:30:22.632242",
     "status": "completed"
    },
    "tags": []
   },
   "outputs": [],
   "source": [
    "df_train = pd.read_csv(\"/kaggle/input/spaceship-titanic/train.csv\")\n",
    "df_test = pd.read_csv(\"/kaggle/input/spaceship-titanic/test.csv\")"
   ]
  },
  {
   "cell_type": "code",
   "execution_count": 4,
   "id": "f900d1f5",
   "metadata": {
    "execution": {
     "iopub.execute_input": "2024-02-16T07:30:22.751923Z",
     "iopub.status.busy": "2024-02-16T07:30:22.751458Z",
     "iopub.status.idle": "2024-02-16T07:30:22.777005Z",
     "shell.execute_reply": "2024-02-16T07:30:22.775021Z"
    },
    "papermill": {
     "duration": 0.036637,
     "end_time": "2024-02-16T07:30:22.780465",
     "exception": false,
     "start_time": "2024-02-16T07:30:22.743828",
     "status": "completed"
    },
    "tags": []
   },
   "outputs": [
    {
     "name": "stdout",
     "output_type": "stream",
     "text": [
      "  PassengerId HomePlanet CryoSleep  Cabin  Destination   Age    VIP  \\\n",
      "0     0001_01     Europa     False  B/0/P  TRAPPIST-1e  39.0  False   \n",
      "1     0002_01      Earth     False  F/0/S  TRAPPIST-1e  24.0  False   \n",
      "2     0003_01     Europa     False  A/0/S  TRAPPIST-1e  58.0   True   \n",
      "3     0003_02     Europa     False  A/0/S  TRAPPIST-1e  33.0  False   \n",
      "4     0004_01      Earth     False  F/1/S  TRAPPIST-1e  16.0  False   \n",
      "\n",
      "   RoomService  FoodCourt  ShoppingMall     Spa  VRDeck               Name  \\\n",
      "0          0.0        0.0           0.0     0.0     0.0    Maham Ofracculy   \n",
      "1        109.0        9.0          25.0   549.0    44.0       Juanna Vines   \n",
      "2         43.0     3576.0           0.0  6715.0    49.0      Altark Susent   \n",
      "3          0.0     1283.0         371.0  3329.0   193.0       Solam Susent   \n",
      "4        303.0       70.0         151.0   565.0     2.0  Willy Santantines   \n",
      "\n",
      "   Transported  \n",
      "0        False  \n",
      "1         True  \n",
      "2        False  \n",
      "3        False  \n",
      "4         True  \n",
      "  PassengerId HomePlanet CryoSleep  Cabin  Destination   Age    VIP  \\\n",
      "0     0013_01      Earth      True  G/3/S  TRAPPIST-1e  27.0  False   \n",
      "1     0018_01      Earth     False  F/4/S  TRAPPIST-1e  19.0  False   \n",
      "2     0019_01     Europa      True  C/0/S  55 Cancri e  31.0  False   \n",
      "3     0021_01     Europa     False  C/1/S  TRAPPIST-1e  38.0  False   \n",
      "4     0023_01      Earth     False  F/5/S  TRAPPIST-1e  20.0  False   \n",
      "\n",
      "   RoomService  FoodCourt  ShoppingMall     Spa  VRDeck              Name  \n",
      "0          0.0        0.0           0.0     0.0     0.0   Nelly Carsoning  \n",
      "1          0.0        9.0           0.0  2823.0     0.0    Lerome Peckers  \n",
      "2          0.0        0.0           0.0     0.0     0.0   Sabih Unhearfus  \n",
      "3          0.0     6652.0           0.0   181.0   585.0  Meratz Caltilter  \n",
      "4         10.0        0.0         635.0     0.0     0.0   Brence Harperez  \n"
     ]
    }
   ],
   "source": [
    "print(df_train.head())\n",
    "print(df_test.head())"
   ]
  },
  {
   "cell_type": "code",
   "execution_count": 5,
   "id": "1fc049f7",
   "metadata": {
    "execution": {
     "iopub.execute_input": "2024-02-16T07:30:22.795473Z",
     "iopub.status.busy": "2024-02-16T07:30:22.794397Z",
     "iopub.status.idle": "2024-02-16T07:30:22.811216Z",
     "shell.execute_reply": "2024-02-16T07:30:22.810031Z"
    },
    "papermill": {
     "duration": 0.026883,
     "end_time": "2024-02-16T07:30:22.813644",
     "exception": false,
     "start_time": "2024-02-16T07:30:22.786761",
     "status": "completed"
    },
    "tags": []
   },
   "outputs": [
    {
     "name": "stdout",
     "output_type": "stream",
     "text": [
      "PassengerId       0\n",
      "HomePlanet      201\n",
      "CryoSleep       217\n",
      "Cabin           199\n",
      "Destination     182\n",
      "Age             179\n",
      "VIP             203\n",
      "RoomService     181\n",
      "FoodCourt       183\n",
      "ShoppingMall    208\n",
      "Spa             183\n",
      "VRDeck          188\n",
      "Name            200\n",
      "Transported       0\n",
      "dtype: int64\n",
      "PassengerId       0\n",
      "HomePlanet       87\n",
      "CryoSleep        93\n",
      "Cabin           100\n",
      "Destination      92\n",
      "Age              91\n",
      "VIP              93\n",
      "RoomService      82\n",
      "FoodCourt       106\n",
      "ShoppingMall     98\n",
      "Spa             101\n",
      "VRDeck           80\n",
      "Name             94\n",
      "dtype: int64\n"
     ]
    }
   ],
   "source": [
    "print(df_train.isnull().sum())\n",
    "print(df_test.isnull().sum())"
   ]
  },
  {
   "cell_type": "code",
   "execution_count": 6,
   "id": "13060a59",
   "metadata": {
    "execution": {
     "iopub.execute_input": "2024-02-16T07:30:22.828739Z",
     "iopub.status.busy": "2024-02-16T07:30:22.828077Z",
     "iopub.status.idle": "2024-02-16T07:30:22.868452Z",
     "shell.execute_reply": "2024-02-16T07:30:22.867279Z"
    },
    "papermill": {
     "duration": 0.051109,
     "end_time": "2024-02-16T07:30:22.871136",
     "exception": false,
     "start_time": "2024-02-16T07:30:22.820027",
     "status": "completed"
    },
    "tags": []
   },
   "outputs": [
    {
     "data": {
      "text/html": [
       "<div>\n",
       "<style scoped>\n",
       "    .dataframe tbody tr th:only-of-type {\n",
       "        vertical-align: middle;\n",
       "    }\n",
       "\n",
       "    .dataframe tbody tr th {\n",
       "        vertical-align: top;\n",
       "    }\n",
       "\n",
       "    .dataframe thead th {\n",
       "        text-align: right;\n",
       "    }\n",
       "</style>\n",
       "<table border=\"1\" class=\"dataframe\">\n",
       "  <thead>\n",
       "    <tr style=\"text-align: right;\">\n",
       "      <th></th>\n",
       "      <th>Age</th>\n",
       "      <th>RoomService</th>\n",
       "      <th>FoodCourt</th>\n",
       "      <th>ShoppingMall</th>\n",
       "      <th>Spa</th>\n",
       "      <th>VRDeck</th>\n",
       "    </tr>\n",
       "  </thead>\n",
       "  <tbody>\n",
       "    <tr>\n",
       "      <th>count</th>\n",
       "      <td>8514.000000</td>\n",
       "      <td>8512.000000</td>\n",
       "      <td>8510.000000</td>\n",
       "      <td>8485.000000</td>\n",
       "      <td>8510.000000</td>\n",
       "      <td>8505.000000</td>\n",
       "    </tr>\n",
       "    <tr>\n",
       "      <th>mean</th>\n",
       "      <td>28.827930</td>\n",
       "      <td>224.687617</td>\n",
       "      <td>458.077203</td>\n",
       "      <td>173.729169</td>\n",
       "      <td>311.138778</td>\n",
       "      <td>304.854791</td>\n",
       "    </tr>\n",
       "    <tr>\n",
       "      <th>std</th>\n",
       "      <td>14.489021</td>\n",
       "      <td>666.717663</td>\n",
       "      <td>1611.489240</td>\n",
       "      <td>604.696458</td>\n",
       "      <td>1136.705535</td>\n",
       "      <td>1145.717189</td>\n",
       "    </tr>\n",
       "    <tr>\n",
       "      <th>min</th>\n",
       "      <td>0.000000</td>\n",
       "      <td>0.000000</td>\n",
       "      <td>0.000000</td>\n",
       "      <td>0.000000</td>\n",
       "      <td>0.000000</td>\n",
       "      <td>0.000000</td>\n",
       "    </tr>\n",
       "    <tr>\n",
       "      <th>25%</th>\n",
       "      <td>19.000000</td>\n",
       "      <td>0.000000</td>\n",
       "      <td>0.000000</td>\n",
       "      <td>0.000000</td>\n",
       "      <td>0.000000</td>\n",
       "      <td>0.000000</td>\n",
       "    </tr>\n",
       "    <tr>\n",
       "      <th>50%</th>\n",
       "      <td>27.000000</td>\n",
       "      <td>0.000000</td>\n",
       "      <td>0.000000</td>\n",
       "      <td>0.000000</td>\n",
       "      <td>0.000000</td>\n",
       "      <td>0.000000</td>\n",
       "    </tr>\n",
       "    <tr>\n",
       "      <th>75%</th>\n",
       "      <td>38.000000</td>\n",
       "      <td>47.000000</td>\n",
       "      <td>76.000000</td>\n",
       "      <td>27.000000</td>\n",
       "      <td>59.000000</td>\n",
       "      <td>46.000000</td>\n",
       "    </tr>\n",
       "    <tr>\n",
       "      <th>max</th>\n",
       "      <td>79.000000</td>\n",
       "      <td>14327.000000</td>\n",
       "      <td>29813.000000</td>\n",
       "      <td>23492.000000</td>\n",
       "      <td>22408.000000</td>\n",
       "      <td>24133.000000</td>\n",
       "    </tr>\n",
       "  </tbody>\n",
       "</table>\n",
       "</div>"
      ],
      "text/plain": [
       "               Age   RoomService     FoodCourt  ShoppingMall           Spa  \\\n",
       "count  8514.000000   8512.000000   8510.000000   8485.000000   8510.000000   \n",
       "mean     28.827930    224.687617    458.077203    173.729169    311.138778   \n",
       "std      14.489021    666.717663   1611.489240    604.696458   1136.705535   \n",
       "min       0.000000      0.000000      0.000000      0.000000      0.000000   \n",
       "25%      19.000000      0.000000      0.000000      0.000000      0.000000   \n",
       "50%      27.000000      0.000000      0.000000      0.000000      0.000000   \n",
       "75%      38.000000     47.000000     76.000000     27.000000     59.000000   \n",
       "max      79.000000  14327.000000  29813.000000  23492.000000  22408.000000   \n",
       "\n",
       "             VRDeck  \n",
       "count   8505.000000  \n",
       "mean     304.854791  \n",
       "std     1145.717189  \n",
       "min        0.000000  \n",
       "25%        0.000000  \n",
       "50%        0.000000  \n",
       "75%       46.000000  \n",
       "max    24133.000000  "
      ]
     },
     "execution_count": 6,
     "metadata": {},
     "output_type": "execute_result"
    }
   ],
   "source": [
    "df_train.describe()"
   ]
  },
  {
   "cell_type": "code",
   "execution_count": 7,
   "id": "f13139ee",
   "metadata": {
    "execution": {
     "iopub.execute_input": "2024-02-16T07:30:22.887009Z",
     "iopub.status.busy": "2024-02-16T07:30:22.886527Z",
     "iopub.status.idle": "2024-02-16T07:30:22.925531Z",
     "shell.execute_reply": "2024-02-16T07:30:22.924451Z"
    },
    "papermill": {
     "duration": 0.050817,
     "end_time": "2024-02-16T07:30:22.928733",
     "exception": false,
     "start_time": "2024-02-16T07:30:22.877916",
     "status": "completed"
    },
    "tags": []
   },
   "outputs": [
    {
     "name": "stdout",
     "output_type": "stream",
     "text": [
      "<class 'pandas.core.frame.DataFrame'>\n",
      "RangeIndex: 8693 entries, 0 to 8692\n",
      "Data columns (total 14 columns):\n",
      " #   Column        Non-Null Count  Dtype  \n",
      "---  ------        --------------  -----  \n",
      " 0   PassengerId   8693 non-null   object \n",
      " 1   HomePlanet    8492 non-null   object \n",
      " 2   CryoSleep     8476 non-null   object \n",
      " 3   Cabin         8494 non-null   object \n",
      " 4   Destination   8511 non-null   object \n",
      " 5   Age           8514 non-null   float64\n",
      " 6   VIP           8490 non-null   object \n",
      " 7   RoomService   8512 non-null   float64\n",
      " 8   FoodCourt     8510 non-null   float64\n",
      " 9   ShoppingMall  8485 non-null   float64\n",
      " 10  Spa           8510 non-null   float64\n",
      " 11  VRDeck        8505 non-null   float64\n",
      " 12  Name          8493 non-null   object \n",
      " 13  Transported   8693 non-null   bool   \n",
      "dtypes: bool(1), float64(6), object(7)\n",
      "memory usage: 891.5+ KB\n",
      "None\n",
      "<class 'pandas.core.frame.DataFrame'>\n",
      "RangeIndex: 4277 entries, 0 to 4276\n",
      "Data columns (total 13 columns):\n",
      " #   Column        Non-Null Count  Dtype  \n",
      "---  ------        --------------  -----  \n",
      " 0   PassengerId   4277 non-null   object \n",
      " 1   HomePlanet    4190 non-null   object \n",
      " 2   CryoSleep     4184 non-null   object \n",
      " 3   Cabin         4177 non-null   object \n",
      " 4   Destination   4185 non-null   object \n",
      " 5   Age           4186 non-null   float64\n",
      " 6   VIP           4184 non-null   object \n",
      " 7   RoomService   4195 non-null   float64\n",
      " 8   FoodCourt     4171 non-null   float64\n",
      " 9   ShoppingMall  4179 non-null   float64\n",
      " 10  Spa           4176 non-null   float64\n",
      " 11  VRDeck        4197 non-null   float64\n",
      " 12  Name          4183 non-null   object \n",
      "dtypes: float64(6), object(7)\n",
      "memory usage: 434.5+ KB\n",
      "None\n"
     ]
    }
   ],
   "source": [
    "print(df_train.info())\n",
    "print(df_test.info())"
   ]
  },
  {
   "cell_type": "code",
   "execution_count": 8,
   "id": "22e0b8c8",
   "metadata": {
    "execution": {
     "iopub.execute_input": "2024-02-16T07:30:22.945051Z",
     "iopub.status.busy": "2024-02-16T07:30:22.943613Z",
     "iopub.status.idle": "2024-02-16T07:30:23.125965Z",
     "shell.execute_reply": "2024-02-16T07:30:23.124265Z"
    },
    "papermill": {
     "duration": 0.193261,
     "end_time": "2024-02-16T07:30:23.128632",
     "exception": false,
     "start_time": "2024-02-16T07:30:22.935371",
     "status": "completed"
    },
    "tags": []
   },
   "outputs": [
    {
     "data": {
      "image/png": "[encoded data removed]",
      "text/plain": [
       "<Figure size 640x480 with 1 Axes>"
      ]
     },
     "metadata": {},
     "output_type": "display_data"
    }
   ],
   "source": [
    "sns.countplot(x = 'Transported', data = df_train)\n",
    "plt.show()"
   ]
  },
  {
   "cell_type": "code",
   "execution_count": 9,
   "id": "c695896e",
   "metadata": {
    "execution": {
     "iopub.execute_input": "2024-02-16T07:30:23.146645Z",
     "iopub.status.busy": "2024-02-16T07:30:23.145665Z",
     "iopub.status.idle": "2024-02-16T07:30:24.073374Z",
     "shell.execute_reply": "2024-02-16T07:30:24.072369Z"
    },
    "papermill": {
     "duration": 0.9388,
     "end_time": "2024-02-16T07:30:24.075904",
     "exception": false,
     "start_time": "2024-02-16T07:30:23.137104",
     "status": "completed"
    },
    "tags": []
   },
   "outputs": [
    {
     "data": {
      "image/png": "[encoded data removed]",
      "text/plain": [
       "<Figure size 500x500 with 6 Axes>"
      ]
     },
     "metadata": {},
     "output_type": "display_data"
    }
   ],
   "source": [
    "df_train.hist(figsize = (5, 5))\n",
    "plt.tight_layout()\n",
    "plt.show()"
   ]
  },
  {
   "cell_type": "code",
   "execution_count": 10,
   "id": "e05ddcbd",
   "metadata": {
    "execution": {
     "iopub.execute_input": "2024-02-16T07:30:24.096176Z",
     "iopub.status.busy": "2024-02-16T07:30:24.094930Z",
     "iopub.status.idle": "2024-02-16T07:31:27.984140Z",
     "shell.execute_reply": "2024-02-16T07:31:27.982783Z"
    },
    "papermill": {
     "duration": 63.903467,
     "end_time": "2024-02-16T07:31:27.986820",
     "exception": false,
     "start_time": "2024-02-16T07:30:24.083353",
     "status": "completed"
    },
    "tags": []
   },
   "outputs": [
    {
     "data": {
      "image/png": "[encoded data removed]",
      "text/plain": [
       "<Figure size 640x480 with 1 Axes>"
      ]
     },
     "metadata": {},
     "output_type": "display_data"
    },
    {
     "data": {
      "image/png": "[encoded data removed]",
      "text/plain": [
       "<Figure size 640x480 with 1 Axes>"
      ]
     },
     "metadata": {},
     "output_type": "display_data"
    },
    {
     "data": {
      "image/png": "[encoded data removed]",
      "text/plain": [
       "<Figure size 640x480 with 1 Axes>"
      ]
     },
     "metadata": {},
     "output_type": "display_data"
    },
    {
     "data": {
      "image/png": "[encoded data removed]",
      "text/plain": [
       "<Figure size 640x480 with 1 Axes>"
      ]
     },
     "metadata": {},
     "output_type": "display_data"
    },
    {
     "data": {
      "image/png": "[encoded data removed]",
      "text/plain": [
       "<Figure size 640x480 with 1 Axes>"
      ]
     },
     "metadata": {},
     "output_type": "display_data"
    }
   ],
   "source": [
    "categorical_features = ['HomePlanet', 'CryoSleep', 'Cabin', 'Destination', 'VIP']\n",
    "for feature in categorical_features :\n",
    "    sns.countplot(x = feature, data = df_train)\n",
    "    plt.show()"
   ]
  },
  {
   "cell_type": "code",
   "execution_count": 11,
   "id": "a1235c43",
   "metadata": {
    "execution": {
     "iopub.execute_input": "2024-02-16T07:31:28.007027Z",
     "iopub.status.busy": "2024-02-16T07:31:28.006586Z",
     "iopub.status.idle": "2024-02-16T07:31:28.016409Z",
     "shell.execute_reply": "2024-02-16T07:31:28.015080Z"
    },
    "papermill": {
     "duration": 0.023228,
     "end_time": "2024-02-16T07:31:28.019162",
     "exception": false,
     "start_time": "2024-02-16T07:31:27.995934",
     "status": "completed"
    },
    "tags": []
   },
   "outputs": [],
   "source": [
    "all_data = pd.concat([df_train, df_test], axis = 0)"
   ]
  },
  {
   "cell_type": "code",
   "execution_count": 12,
   "id": "7b2dd544",
   "metadata": {
    "execution": {
     "iopub.execute_input": "2024-02-16T07:31:28.039913Z",
     "iopub.status.busy": "2024-02-16T07:31:28.039527Z",
     "iopub.status.idle": "2024-02-16T07:31:28.092392Z",
     "shell.execute_reply": "2024-02-16T07:31:28.091264Z"
    },
    "papermill": {
     "duration": 0.066065,
     "end_time": "2024-02-16T07:31:28.095026",
     "exception": false,
     "start_time": "2024-02-16T07:31:28.028961",
     "status": "completed"
    },
    "tags": []
   },
   "outputs": [],
   "source": [
    "le = LabelEncoder()\n",
    "categorical_features = ['HomePlanet', 'CryoSleep', 'Cabin', 'Destination', 'VIP']\n",
    "for feature in categorical_features :\n",
    "    all_data[feature] = le.fit_transform(all_data[feature].astype(str))"
   ]
  },
  {
   "cell_type": "code",
   "execution_count": 13,
   "id": "282376f6",
   "metadata": {
    "execution": {
     "iopub.execute_input": "2024-02-16T07:31:28.115274Z",
     "iopub.status.busy": "2024-02-16T07:31:28.114729Z",
     "iopub.status.idle": "2024-02-16T07:31:28.176151Z",
     "shell.execute_reply": "2024-02-16T07:31:28.174709Z"
    },
    "papermill": {
     "duration": 0.075141,
     "end_time": "2024-02-16T07:31:28.179340",
     "exception": false,
     "start_time": "2024-02-16T07:31:28.104199",
     "status": "completed"
    },
    "tags": []
   },
   "outputs": [],
   "source": [
    "imputer = SimpleImputer(strategy = 'most_frequent')\n",
    "df_train_without_target = df_train.drop(['Transported'], axis = 1)\n",
    "imputer.fit(df_train_without_target)\n",
    "\n",
    "df_train_imputed = pd.DataFrame(imputer.transform(df_train_without_target))\n",
    "df_test_imputed = pd.DataFrame(imputer.transform(df_test))\n",
    "\n",
    "df_train_imputed.columns = df_train_without_target.columns\n",
    "df_test_imputed.columns = df_train_without_target.columns\n",
    "\n",
    "df_train_imputed['Transported'] = df_train['Transported']"
   ]
  },
  {
   "cell_type": "code",
   "execution_count": 14,
   "id": "5cdb58a1",
   "metadata": {
    "execution": {
     "iopub.execute_input": "2024-02-16T07:31:28.200709Z",
     "iopub.status.busy": "2024-02-16T07:31:28.199602Z",
     "iopub.status.idle": "2024-02-16T07:31:28.210177Z",
     "shell.execute_reply": "2024-02-16T07:31:28.208754Z"
    },
    "papermill": {
     "duration": 0.023985,
     "end_time": "2024-02-16T07:31:28.213096",
     "exception": false,
     "start_time": "2024-02-16T07:31:28.189111",
     "status": "completed"
    },
    "tags": []
   },
   "outputs": [],
   "source": [
    "df_train_imputed = df_train_imputed.drop(['PassengerId', 'Name'], axis = 1)\n",
    "df_test_imputed = df_test_imputed.drop(['PassengerId', 'Name'], axis = 1)"
   ]
  },
  {
   "cell_type": "code",
   "execution_count": 15,
   "id": "838d9e77",
   "metadata": {
    "execution": {
     "iopub.execute_input": "2024-02-16T07:31:28.233602Z",
     "iopub.status.busy": "2024-02-16T07:31:28.233230Z",
     "iopub.status.idle": "2024-02-16T07:31:28.395833Z",
     "shell.execute_reply": "2024-02-16T07:31:28.394545Z"
    },
    "papermill": {
     "duration": 0.176785,
     "end_time": "2024-02-16T07:31:28.399433",
     "exception": false,
     "start_time": "2024-02-16T07:31:28.222648",
     "status": "completed"
    },
    "tags": []
   },
   "outputs": [],
   "source": [
    "ohe = OneHotEncoder(handle_unknown = 'ignore')\n",
    "df_train_without_target_encoded = ohe.fit_transform(df_train_imputed.drop(['Transported'], axis = 1))\n",
    "df_test_encoded = ohe.transform(df_test_imputed)"
   ]
  },
  {
   "cell_type": "code",
   "execution_count": 16,
   "id": "0fe5afa2",
   "metadata": {
    "execution": {
     "iopub.execute_input": "2024-02-16T07:31:28.420843Z",
     "iopub.status.busy": "2024-02-16T07:31:28.420450Z",
     "iopub.status.idle": "2024-02-16T07:31:28.426340Z",
     "shell.execute_reply": "2024-02-16T07:31:28.425082Z"
    },
    "papermill": {
     "duration": 0.019378,
     "end_time": "2024-02-16T07:31:28.428714",
     "exception": false,
     "start_time": "2024-02-16T07:31:28.409336",
     "status": "completed"
    },
    "tags": []
   },
   "outputs": [],
   "source": [
    "X_train = df_train_without_target_encoded\n",
    "Y_train = df_train_imputed['Transported']\n",
    "\n",
    "X_test = df_test_encoded"
   ]
  },
  {
   "cell_type": "code",
   "execution_count": 17,
   "id": "137700f3",
   "metadata": {
    "execution": {
     "iopub.execute_input": "2024-02-16T07:31:28.449635Z",
     "iopub.status.busy": "2024-02-16T07:31:28.449260Z",
     "iopub.status.idle": "2024-02-16T07:31:44.052863Z",
     "shell.execute_reply": "2024-02-16T07:31:44.051418Z"
    },
    "papermill": {
     "duration": 15.617056,
     "end_time": "2024-02-16T07:31:44.055576",
     "exception": false,
     "start_time": "2024-02-16T07:31:28.438520",
     "status": "completed"
    },
    "tags": []
   },
   "outputs": [
    {
     "data": {
      "text/html": [
       "<style>#sk-container-id-1 {color: black;background-color: white;}#sk-container-id-1 pre{padding: 0;}#sk-container-id-1 div.sk-toggleable {background-color: white;}#sk-container-id-1 label.sk-toggleable__label {cursor: pointer;display: block;width: 100%;margin-bottom: 0;padding: 0.3em;box-sizing: border-box;text-align: center;}#sk-container-id-1 label.sk-toggleable__label-arrow:before {content: \"▸\";float: left;margin-right: 0.25em;color: #696969;}#sk-container-id-1 label.sk-toggleable__label-arrow:hover:before {color: black;}#sk-container-id-1 div.sk-estimator:hover label.sk-toggleable__label-arrow:before {color: black;}#sk-container-id-1 div.sk-toggleable__content {max-height: 0;max-width: 0;overflow: hidden;text-align: left;background-color: #f0f8ff;}#sk-container-id-1 div.sk-toggleable__content pre {margin: 0.2em;color: black;border-radius: 0.25em;background-color: #f0f8ff;}#sk-container-id-1 input.sk-toggleable__control:checked~div.sk-toggleable__content {max-height: 200px;max-width: 100%;overflow: auto;}#sk-container-id-1 input.sk-toggleable__control:checked~label.sk-toggleable__label-arrow:before {content: \"▾\";}#sk-container-id-1 div.sk-estimator input.sk-toggleable__control:checked~label.sk-toggleable__label {background-color: #d4ebff;}#sk-container-id-1 div.sk-label input.sk-toggleable__control:checked~label.sk-toggleable__label {background-color: #d4ebff;}#sk-container-id-1 input.sk-hidden--visually {border: 0;clip: rect(1px 1px 1px 1px);clip: rect(1px, 1px, 1px, 1px);height: 1px;margin: -1px;overflow: hidden;padding: 0;position: absolute;width: 1px;}#sk-container-id-1 div.sk-estimator {font-family: monospace;background-color: #f0f8ff;border: 1px dotted black;border-radius: 0.25em;box-sizing: border-box;margin-bottom: 0.5em;}#sk-container-id-1 div.sk-estimator:hover {background-color: #d4ebff;}#sk-container-id-1 div.sk-parallel-item::after {content: \"\";width: 100%;border-bottom: 1px solid gray;flex-grow: 1;}#sk-container-id-1 div.sk-label:hover label.sk-toggleable__label {background-color: #d4ebff;}#sk-container-id-1 div.sk-serial::before {content: \"\";position: absolute;border-left: 1px solid gray;box-sizing: border-box;top: 0;bottom: 0;left: 50%;z-index: 0;}#sk-container-id-1 div.sk-serial {display: flex;flex-direction: column;align-items: center;background-color: white;padding-right: 0.2em;padding-left: 0.2em;position: relative;}#sk-container-id-1 div.sk-item {position: relative;z-index: 1;}#sk-container-id-1 div.sk-parallel {display: flex;align-items: stretch;justify-content: center;background-color: white;position: relative;}#sk-container-id-1 div.sk-item::before, #sk-container-id-1 div.sk-parallel-item::before {content: \"\";position: absolute;border-left: 1px solid gray;box-sizing: border-box;top: 0;bottom: 0;left: 50%;z-index: -1;}#sk-container-id-1 div.sk-parallel-item {display: flex;flex-direction: column;z-index: 1;position: relative;background-color: white;}#sk-container-id-1 div.sk-parallel-item:first-child::after {align-self: flex-end;width: 50%;}#sk-container-id-1 div.sk-parallel-item:last-child::after {align-self: flex-start;width: 50%;}#sk-container-id-1 div.sk-parallel-item:only-child::after {width: 0;}#sk-container-id-1 div.sk-dashed-wrapped {border: 1px dashed gray;margin: 0 0.4em 0.5em 0.4em;box-sizing: border-box;padding-bottom: 0.4em;background-color: white;}#sk-container-id-1 div.sk-label label {font-family: monospace;font-weight: bold;display: inline-block;line-height: 1.2em;}#sk-container-id-1 div.sk-label-container {text-align: center;}#sk-container-id-1 div.sk-container {/* jupyter's `normalize.less` sets `[hidden] { display: none; }` but bootstrap.min.css set `[hidden] { display: none !important; }` so we also need the `!important` here to be able to override the default hidden behavior on the sphinx rendered scikit-learn.org. See: https://github.com/scikit-learn/scikit-learn/issues/21755 */display: inline-block !important;position: relative;}#sk-container-id-1 div.sk-text-repr-fallback {display: none;}</style><div id=\"sk-container-id-1\" class=\"sk-top-container\"><div class=\"sk-text-repr-fallback\"><pre>RandomForestClassifier(random_state=35)</pre><b>In a Jupyter environment, please rerun this cell to show the HTML representation or trust the notebook. <br />On GitHub, the HTML representation is unable to render, please try loading this page with nbviewer.org.</b></div><div class=\"sk-container\" hidden><div class=\"sk-item\"><div class=\"sk-estimator sk-toggleable\"><input class=\"sk-toggleable__control sk-hidden--visually\" id=\"sk-estimator-id-1\" type=\"checkbox\" checked><label for=\"sk-estimator-id-1\" class=\"sk-toggleable__label sk-toggleable__label-arrow\">RandomForestClassifier</label><div class=\"sk-toggleable__content\"><pre>RandomForestClassifier(random_state=35)</pre></div></div></div></div></div>"
      ],
      "text/plain": [
       "RandomForestClassifier(random_state=35)"
      ]
     },
     "execution_count": 17,
     "metadata": {},
     "output_type": "execute_result"
    }
   ],
   "source": [
    "r = RandomForestClassifier(n_estimators = 100, random_state = 35)\n",
    "r.fit(X_train, Y_train)"
   ]
  },
  {
   "cell_type": "code",
   "execution_count": 18,
   "id": "7c0f4091",
   "metadata": {
    "execution": {
     "iopub.execute_input": "2024-02-16T07:31:44.076510Z",
     "iopub.status.busy": "2024-02-16T07:31:44.076069Z",
     "iopub.status.idle": "2024-02-16T07:31:44.420341Z",
     "shell.execute_reply": "2024-02-16T07:31:44.419014Z"
    },
    "papermill": {
     "duration": 0.358125,
     "end_time": "2024-02-16T07:31:44.423144",
     "exception": false,
     "start_time": "2024-02-16T07:31:44.065019",
     "status": "completed"
    },
    "tags": []
   },
   "outputs": [],
   "source": [
    "predictions = r.predict(X_test)"
   ]
  },
  {
   "cell_type": "code",
   "execution_count": 19,
   "id": "ae52eb76",
   "metadata": {
    "execution": {
     "iopub.execute_input": "2024-02-16T07:31:44.443624Z",
     "iopub.status.busy": "2024-02-16T07:31:44.442665Z",
     "iopub.status.idle": "2024-02-16T07:31:44.449965Z",
     "shell.execute_reply": "2024-02-16T07:31:44.448476Z"
    },
    "papermill": {
     "duration": 0.020981,
     "end_time": "2024-02-16T07:31:44.453144",
     "exception": false,
     "start_time": "2024-02-16T07:31:44.432163",
     "status": "completed"
    },
    "tags": []
   },
   "outputs": [
    {
     "name": "stdout",
     "output_type": "stream",
     "text": [
      "[ True False  True ...  True False False]\n"
     ]
    }
   ],
   "source": [
    "print(predictions)"
   ]
  },
  {
   "cell_type": "code",
   "execution_count": 20,
   "id": "be0fb4e2",
   "metadata": {
    "execution": {
     "iopub.execute_input": "2024-02-16T07:31:44.474546Z",
     "iopub.status.busy": "2024-02-16T07:31:44.473249Z",
     "iopub.status.idle": "2024-02-16T07:31:44.479984Z",
     "shell.execute_reply": "2024-02-16T07:31:44.478732Z"
    },
    "papermill": {
     "duration": 0.020151,
     "end_time": "2024-02-16T07:31:44.482722",
     "exception": false,
     "start_time": "2024-02-16T07:31:44.462571",
     "status": "completed"
    },
    "tags": []
   },
   "outputs": [],
   "source": [
    "predictions_df = pd.DataFrame(predictions, columns = ['Transported'])"
   ]
  },
  {
   "cell_type": "code",
   "execution_count": 21,
   "id": "2b4f4d48",
   "metadata": {
    "execution": {
     "iopub.execute_input": "2024-02-16T07:31:44.503341Z",
     "iopub.status.busy": "2024-02-16T07:31:44.502539Z",
     "iopub.status.idle": "2024-02-16T07:31:44.509134Z",
     "shell.execute_reply": "2024-02-16T07:31:44.507878Z"
    },
    "papermill": {
     "duration": 0.019951,
     "end_time": "2024-02-16T07:31:44.511819",
     "exception": false,
     "start_time": "2024-02-16T07:31:44.491868",
     "status": "completed"
    },
    "tags": []
   },
   "outputs": [],
   "source": [
    "predictions_df['PassengerId'] = df_test['PassengerId']"
   ]
  },
  {
   "cell_type": "code",
   "execution_count": 22,
   "id": "a6b7d5d9",
   "metadata": {
    "execution": {
     "iopub.execute_input": "2024-02-16T07:31:44.533605Z",
     "iopub.status.busy": "2024-02-16T07:31:44.532482Z",
     "iopub.status.idle": "2024-02-16T07:31:44.541800Z",
     "shell.execute_reply": "2024-02-16T07:31:44.540598Z"
    },
    "papermill": {
     "duration": 0.02282,
     "end_time": "2024-02-16T07:31:44.544505",
     "exception": false,
     "start_time": "2024-02-16T07:31:44.521685",
     "status": "completed"
    },
    "tags": []
   },
   "outputs": [],
   "source": [
    "cols = predictions_df.columns.tolist()\n",
    "cols = cols[-1:] + cols[:-1]\n",
    "predictions_df = predictions_df[cols]"
   ]
  },
  {
   "cell_type": "code",
   "execution_count": 23,
   "id": "2a0c0f2e",
   "metadata": {
    "execution": {
     "iopub.execute_input": "2024-02-16T07:31:44.565419Z",
     "iopub.status.busy": "2024-02-16T07:31:44.565032Z",
     "iopub.status.idle": "2024-02-16T07:31:44.577429Z",
     "shell.execute_reply": "2024-02-16T07:31:44.576352Z"
    },
    "papermill": {
     "duration": 0.026062,
     "end_time": "2024-02-16T07:31:44.580172",
     "exception": false,
     "start_time": "2024-02-16T07:31:44.554110",
     "status": "completed"
    },
    "tags": []
   },
   "outputs": [],
   "source": [
    "predictions_df.to_csv('submission.csv', index = False)"
   ]
  }
 ],
 "metadata": {
  "kaggle": {
   "accelerator": "none",
   "dataSources": [
    {
     "databundleVersionId": 3220602,
     "sourceId": 34377,
     "sourceType": "competition"
    }
   ],
   "dockerImageVersionId": 30646,
   "isGpuEnabled": false,
   "isInternetEnabled": true,
   "language": "python",
   "sourceType": "notebook"
  },
  "kernelspec": {
   "display_name": "Python 3",
   "language": "python",
   "name": "python3"
  },
  "language_info": {
   "codemirror_mode": {
    "name": "ipython",
    "version": 3
   },
   "file_extension": ".py",
   "mimetype": "text/x-python",
   "name": "python",
   "nbconvert_exporter": "python",
   "pygments_lexer": "ipython3",
   "version": "3.10.13"
  },
  "papermill": {
   "default_parameters": {},
   "duration": 90.289565,
   "end_time": "2024-02-16T07:31:46.419150",
   "environment_variables": {},
   "exception": null,
   "input_path": "__notebook__.ipynb",
   "output_path": "__notebook__.ipynb",
   "parameters": {},
   "start_time": "2024-02-16T07:30:16.129585",
   "version": "2.5.0"
  }
 },
 "nbformat": 4,
 "nbformat_minor": 5
}
