{
 "cells": [
  {
   "cell_type": "code",
   "execution_count": 1,
   "id": "70486e04",
   "metadata": {
    "_cell_guid": "b1076dfc-b9ad-4769-8c92-a6c4dae69d19",
    "_uuid": "8f2839f25d086af736a60e9eeb907d3b93b6e0e5",
    "execution": {
     "iopub.execute_input": "2024-02-15T07:04:48.832390Z",
     "iopub.status.busy": "2024-02-15T07:04:48.831834Z",
     "iopub.status.idle": "2024-02-15T07:04:49.748480Z",
     "shell.execute_reply": "2024-02-15T07:04:49.747413Z"
    },
    "papermill": {
     "duration": 0.926689,
     "end_time": "2024-02-15T07:04:49.750788",
     "exception": false,
     "start_time": "2024-02-15T07:04:48.824099",
     "status": "completed"
    },
    "tags": []
   },
   "outputs": [
    {
     "name": "stdout",
     "output_type": "stream",
     "text": [
      "/kaggle/input/digit-recognizer/sample_submission.csv\n",
      "/kaggle/input/digit-recognizer/train.csv\n",
      "/kaggle/input/digit-recognizer/test.csv\n"
     ]
    }
   ],
   "source": [
    "# This Python 3 environment comes with many helpful analytics libraries installed\n",
    "# It is defined by the kaggle/python Docker image: https://github.com/kaggle/docker-python\n",
    "# For example, here's several helpful packages to load\n",
    "\n",
    "import numpy as np # linear algebra\n",
    "import pandas as pd # data processing, CSV file I/O (e.g. pd.read_csv)\n",
    "\n",
    "# Input data files are available in the read-only \"../input/\" directory\n",
    "# For example, running this (by clicking run or pressing Shift+Enter) will list all files under the input directory\n",
    "\n",
    "import os\n",
    "for dirname, _, filenames in os.walk('/kaggle/input'):\n",
    "    for filename in filenames:\n",
    "        print(os.path.join(dirname, filename))\n",
    "\n",
    "# You can write up to 20GB to the current directory (/kaggle/working/) that gets preserved as output when you create a version using \"Save & Run All\" \n",
    "# You can also write temporary files to /kaggle/temp/, but they won't be saved outside of the current session"
   ]
  },
  {
   "cell_type": "code",
   "execution_count": 2,
   "id": "de80ddaf",
   "metadata": {
    "execution": {
     "iopub.execute_input": "2024-02-15T07:04:49.762549Z",
     "iopub.status.busy": "2024-02-15T07:04:49.761914Z",
     "iopub.status.idle": "2024-02-15T07:05:05.160117Z",
     "shell.execute_reply": "2024-02-15T07:05:05.158640Z"
    },
    "papermill": {
     "duration": 15.407159,
     "end_time": "2024-02-15T07:05:05.163125",
     "exception": false,
     "start_time": "2024-02-15T07:04:49.755966",
     "status": "completed"
    },
    "tags": []
   },
   "outputs": [],
   "source": [
    "import numpy as np\n",
    "import pandas as pd\n",
    "import matplotlib.pyplot as plt\n",
    "import os\n",
    "import random\n",
    "import tensorflow as tf\n",
    "\n",
    "import warnings\n",
    "warnings.filterwarnings(\"ignore\")\n",
    "\n",
    "from tensorflow.keras.models import Sequential\n",
    "from tensorflow.keras.utils import to_categorical\n",
    "from tensorflow.keras.callbacks import EarlyStopping\n",
    "from tensorflow.keras.layers import Conv2D, MaxPooling2D, Dense, Flatten, BatchNormalization\n",
    "\n",
    "from sklearn.model_selection import train_test_split"
   ]
  },
  {
   "cell_type": "code",
   "execution_count": 3,
   "id": "88026d96",
   "metadata": {
    "execution": {
     "iopub.execute_input": "2024-02-15T07:05:05.175359Z",
     "iopub.status.busy": "2024-02-15T07:05:05.174551Z",
     "iopub.status.idle": "2024-02-15T07:05:09.239870Z",
     "shell.execute_reply": "2024-02-15T07:05:09.238675Z"
    },
    "papermill": {
     "duration": 4.074469,
     "end_time": "2024-02-15T07:05:09.242645",
     "exception": false,
     "start_time": "2024-02-15T07:05:05.168176",
     "status": "completed"
    },
    "tags": []
   },
   "outputs": [
    {
     "data": {
      "text/html": [
       "<div>\n",
       "<style scoped>\n",
       "    .dataframe tbody tr th:only-of-type {\n",
       "        vertical-align: middle;\n",
       "    }\n",
       "\n",
       "    .dataframe tbody tr th {\n",
       "        vertical-align: top;\n",
       "    }\n",
       "\n",
       "    .dataframe thead th {\n",
       "        text-align: right;\n",
       "    }\n",
       "</style>\n",
       "<table border=\"1\" class=\"dataframe\">\n",
       "  <thead>\n",
       "    <tr style=\"text-align: right;\">\n",
       "      <th></th>\n",
       "      <th>label</th>\n",
       "      <th>pixel0</th>\n",
       "      <th>pixel1</th>\n",
       "      <th>pixel2</th>\n",
       "      <th>pixel3</th>\n",
       "      <th>pixel4</th>\n",
       "      <th>pixel5</th>\n",
       "      <th>pixel6</th>\n",
       "      <th>pixel7</th>\n",
       "      <th>pixel8</th>\n",
       "      <th>...</th>\n",
       "      <th>pixel774</th>\n",
       "      <th>pixel775</th>\n",
       "      <th>pixel776</th>\n",
       "      <th>pixel777</th>\n",
       "      <th>pixel778</th>\n",
       "      <th>pixel779</th>\n",
       "      <th>pixel780</th>\n",
       "      <th>pixel781</th>\n",
       "      <th>pixel782</th>\n",
       "      <th>pixel783</th>\n",
       "    </tr>\n",
       "  </thead>\n",
       "  <tbody>\n",
       "    <tr>\n",
       "      <th>0</th>\n",
       "      <td>1</td>\n",
       "      <td>0</td>\n",
       "      <td>0</td>\n",
       "      <td>0</td>\n",
       "      <td>0</td>\n",
       "      <td>0</td>\n",
       "      <td>0</td>\n",
       "      <td>0</td>\n",
       "      <td>0</td>\n",
       "      <td>0</td>\n",
       "      <td>...</td>\n",
       "      <td>0</td>\n",
       "      <td>0</td>\n",
       "      <td>0</td>\n",
       "      <td>0</td>\n",
       "      <td>0</td>\n",
       "      <td>0</td>\n",
       "      <td>0</td>\n",
       "      <td>0</td>\n",
       "      <td>0</td>\n",
       "      <td>0</td>\n",
       "    </tr>\n",
       "    <tr>\n",
       "      <th>1</th>\n",
       "      <td>0</td>\n",
       "      <td>0</td>\n",
       "      <td>0</td>\n",
       "      <td>0</td>\n",
       "      <td>0</td>\n",
       "      <td>0</td>\n",
       "      <td>0</td>\n",
       "      <td>0</td>\n",
       "      <td>0</td>\n",
       "      <td>0</td>\n",
       "      <td>...</td>\n",
       "      <td>0</td>\n",
       "      <td>0</td>\n",
       "      <td>0</td>\n",
       "      <td>0</td>\n",
       "      <td>0</td>\n",
       "      <td>0</td>\n",
       "      <td>0</td>\n",
       "      <td>0</td>\n",
       "      <td>0</td>\n",
       "      <td>0</td>\n",
       "    </tr>\n",
       "    <tr>\n",
       "      <th>2</th>\n",
       "      <td>1</td>\n",
       "      <td>0</td>\n",
       "      <td>0</td>\n",
       "      <td>0</td>\n",
       "      <td>0</td>\n",
       "      <td>0</td>\n",
       "      <td>0</td>\n",
       "      <td>0</td>\n",
       "      <td>0</td>\n",
       "      <td>0</td>\n",
       "      <td>...</td>\n",
       "      <td>0</td>\n",
       "      <td>0</td>\n",
       "      <td>0</td>\n",
       "      <td>0</td>\n",
       "      <td>0</td>\n",
       "      <td>0</td>\n",
       "      <td>0</td>\n",
       "      <td>0</td>\n",
       "      <td>0</td>\n",
       "      <td>0</td>\n",
       "    </tr>\n",
       "    <tr>\n",
       "      <th>3</th>\n",
       "      <td>4</td>\n",
       "      <td>0</td>\n",
       "      <td>0</td>\n",
       "      <td>0</td>\n",
       "      <td>0</td>\n",
       "      <td>0</td>\n",
       "      <td>0</td>\n",
       "      <td>0</td>\n",
       "      <td>0</td>\n",
       "      <td>0</td>\n",
       "      <td>...</td>\n",
       "      <td>0</td>\n",
       "      <td>0</td>\n",
       "      <td>0</td>\n",
       "      <td>0</td>\n",
       "      <td>0</td>\n",
       "      <td>0</td>\n",
       "      <td>0</td>\n",
       "      <td>0</td>\n",
       "      <td>0</td>\n",
       "      <td>0</td>\n",
       "    </tr>\n",
       "    <tr>\n",
       "      <th>4</th>\n",
       "      <td>0</td>\n",
       "      <td>0</td>\n",
       "      <td>0</td>\n",
       "      <td>0</td>\n",
       "      <td>0</td>\n",
       "      <td>0</td>\n",
       "      <td>0</td>\n",
       "      <td>0</td>\n",
       "      <td>0</td>\n",
       "      <td>0</td>\n",
       "      <td>...</td>\n",
       "      <td>0</td>\n",
       "      <td>0</td>\n",
       "      <td>0</td>\n",
       "      <td>0</td>\n",
       "      <td>0</td>\n",
       "      <td>0</td>\n",
       "      <td>0</td>\n",
       "      <td>0</td>\n",
       "      <td>0</td>\n",
       "      <td>0</td>\n",
       "    </tr>\n",
       "  </tbody>\n",
       "</table>\n",
       "<p>5 rows × 785 columns</p>\n",
       "</div>"
      ],
      "text/plain": [
       "   label  pixel0  pixel1  pixel2  pixel3  pixel4  pixel5  pixel6  pixel7  \\\n",
       "0      1       0       0       0       0       0       0       0       0   \n",
       "1      0       0       0       0       0       0       0       0       0   \n",
       "2      1       0       0       0       0       0       0       0       0   \n",
       "3      4       0       0       0       0       0       0       0       0   \n",
       "4      0       0       0       0       0       0       0       0       0   \n",
       "\n",
       "   pixel8  ...  pixel774  pixel775  pixel776  pixel777  pixel778  pixel779  \\\n",
       "0       0  ...         0         0         0         0         0         0   \n",
       "1       0  ...         0         0         0         0         0         0   \n",
       "2       0  ...         0         0         0         0         0         0   \n",
       "3       0  ...         0         0         0         0         0         0   \n",
       "4       0  ...         0         0         0         0         0         0   \n",
       "\n",
       "   pixel780  pixel781  pixel782  pixel783  \n",
       "0         0         0         0         0  \n",
       "1         0         0         0         0  \n",
       "2         0         0         0         0  \n",
       "3         0         0         0         0  \n",
       "4         0         0         0         0  \n",
       "\n",
       "[5 rows x 785 columns]"
      ]
     },
     "execution_count": 3,
     "metadata": {},
     "output_type": "execute_result"
    }
   ],
   "source": [
    "df = pd.read_csv(\"/kaggle/input/digit-recognizer/train.csv\")\n",
    "df.head()"
   ]
  },
  {
   "cell_type": "code",
   "execution_count": 4,
   "id": "254206ed",
   "metadata": {
    "execution": {
     "iopub.execute_input": "2024-02-15T07:05:09.254262Z",
     "iopub.status.busy": "2024-02-15T07:05:09.253841Z",
     "iopub.status.idle": "2024-02-15T07:05:09.265688Z",
     "shell.execute_reply": "2024-02-15T07:05:09.264664Z"
    },
    "papermill": {
     "duration": 0.020384,
     "end_time": "2024-02-15T07:05:09.268010",
     "exception": false,
     "start_time": "2024-02-15T07:05:09.247626",
     "status": "completed"
    },
    "tags": []
   },
   "outputs": [
    {
     "data": {
      "text/html": [
       "<div>\n",
       "<style scoped>\n",
       "    .dataframe tbody tr th:only-of-type {\n",
       "        vertical-align: middle;\n",
       "    }\n",
       "\n",
       "    .dataframe tbody tr th {\n",
       "        vertical-align: top;\n",
       "    }\n",
       "\n",
       "    .dataframe thead th {\n",
       "        text-align: right;\n",
       "    }\n",
       "</style>\n",
       "<table border=\"1\" class=\"dataframe\">\n",
       "  <thead>\n",
       "    <tr style=\"text-align: right;\">\n",
       "      <th></th>\n",
       "      <th>label</th>\n",
       "      <th>matrice</th>\n",
       "    </tr>\n",
       "  </thead>\n",
       "  <tbody>\n",
       "  </tbody>\n",
       "</table>\n",
       "</div>"
      ],
      "text/plain": [
       "Empty DataFrame\n",
       "Columns: [label, matrice]\n",
       "Index: []"
      ]
     },
     "execution_count": 4,
     "metadata": {},
     "output_type": "execute_result"
    }
   ],
   "source": [
    "new_def = pd.DataFrame(columns = [\"label\", \"matrice\"])\n",
    "new_def"
   ]
  },
  {
   "cell_type": "code",
   "execution_count": 5,
   "id": "ba5c101a",
   "metadata": {
    "execution": {
     "iopub.execute_input": "2024-02-15T07:05:09.280833Z",
     "iopub.status.busy": "2024-02-15T07:05:09.280358Z",
     "iopub.status.idle": "2024-02-15T07:06:58.533564Z",
     "shell.execute_reply": "2024-02-15T07:06:58.531978Z"
    },
    "papermill": {
     "duration": 109.263319,
     "end_time": "2024-02-15T07:06:58.536873",
     "exception": false,
     "start_time": "2024-02-15T07:05:09.273554",
     "status": "completed"
    },
    "tags": []
   },
   "outputs": [],
   "source": [
    "for x in range(len(df)) :\n",
    "    new_def.loc[x,\"label\"] = df.loc[x,\"label\"]\n",
    "    new_def.loc[x,\"matrice\"] = np.reshape(df.loc[x,\"pixel0\":\"pixel783\"].values/255.0,(28, 28))"
   ]
  },
  {
   "cell_type": "code",
   "execution_count": 6,
   "id": "43ddfe83",
   "metadata": {
    "execution": {
     "iopub.execute_input": "2024-02-15T07:06:58.551244Z",
     "iopub.status.busy": "2024-02-15T07:06:58.550561Z",
     "iopub.status.idle": "2024-02-15T07:06:58.868533Z",
     "shell.execute_reply": "2024-02-15T07:06:58.867171Z"
    },
    "papermill": {
     "duration": 0.328581,
     "end_time": "2024-02-15T07:06:58.871478",
     "exception": false,
     "start_time": "2024-02-15T07:06:58.542897",
     "status": "completed"
    },
    "tags": []
   },
   "outputs": [
    {
     "data": {
      "text/plain": [
       "<matplotlib.image.AxesImage at 0x7f94dd0d1c00>"
      ]
     },
     "execution_count": 6,
     "metadata": {},
     "output_type": "execute_result"
    },
    {
     "data": {
      "image/png": "[encoded data removed]",
      "text/plain": [
       "<Figure size 640x480 with 1 Axes>"
      ]
     },
     "metadata": {},
     "output_type": "display_data"
    }
   ],
   "source": [
    "plt.imshow(new_def.loc[10, \"matrice\"], cmap = 'gray', interpolation = 'nearest')"
   ]
  },
  {
   "cell_type": "code",
   "execution_count": 7,
   "id": "00e49bd6",
   "metadata": {
    "execution": {
     "iopub.execute_input": "2024-02-15T07:06:58.886786Z",
     "iopub.status.busy": "2024-02-15T07:06:58.885172Z",
     "iopub.status.idle": "2024-02-15T07:06:59.174112Z",
     "shell.execute_reply": "2024-02-15T07:06:59.172831Z"
    },
    "papermill": {
     "duration": 0.299445,
     "end_time": "2024-02-15T07:06:59.177136",
     "exception": false,
     "start_time": "2024-02-15T07:06:58.877691",
     "status": "completed"
    },
    "tags": []
   },
   "outputs": [],
   "source": [
    "x = new_def[\"matrice\"].values\n",
    "y = new_def[\"label\"].values\n",
    "\n",
    "x_train, x_test, y_train, y_test = train_test_split(x, y, test_size = 0.3, random_state = 40)\n",
    "\n",
    "x_train = np.array(x_train.tolist())\n",
    "x_train = x_train.reshape(-1, 28, 28, 1)\n",
    "y_train = np.array(y_train, dtype = np.int32)\n",
    "y_train = to_categorical(y_train, num_classes = 10)\n",
    "\n",
    "x_test = np.array(x_test.tolist())\n",
    "x_test = x_test.reshape(-1, 28, 28, 1)\n",
    "y_test = np.array(y_test, dtype = np.int32)\n",
    "y_test = to_categorical(y_test, num_classes = 10)"
   ]
  },
  {
   "cell_type": "code",
   "execution_count": 8,
   "id": "a67d38ee",
   "metadata": {
    "execution": {
     "iopub.execute_input": "2024-02-15T07:06:59.191356Z",
     "iopub.status.busy": "2024-02-15T07:06:59.190558Z",
     "iopub.status.idle": "2024-02-15T07:06:59.581069Z",
     "shell.execute_reply": "2024-02-15T07:06:59.579358Z"
    },
    "papermill": {
     "duration": 0.409814,
     "end_time": "2024-02-15T07:06:59.592952",
     "exception": false,
     "start_time": "2024-02-15T07:06:59.183138",
     "status": "completed"
    },
    "tags": []
   },
   "outputs": [
    {
     "name": "stdout",
     "output_type": "stream",
     "text": [
      "Model: \"sequential\"\n",
      "_________________________________________________________________\n",
      " Layer (type)                Output Shape              Param #   \n",
      "=================================================================\n",
      " conv2d (Conv2D)             (None, 28, 28, 32)        160       \n",
      "                                                                 \n",
      " max_pooling2d (MaxPooling2  (None, 14, 14, 32)        0         \n",
      " D)                                                              \n",
      "                                                                 \n",
      " conv2d_1 (Conv2D)           (None, 14, 14, 64)        8256      \n",
      "                                                                 \n",
      " max_pooling2d_1 (MaxPoolin  (None, 7, 7, 64)          0         \n",
      " g2D)                                                            \n",
      "                                                                 \n",
      " conv2d_2 (Conv2D)           (None, 7, 7, 128)         32896     \n",
      "                                                                 \n",
      " max_pooling2d_2 (MaxPoolin  (None, 3, 3, 128)         0         \n",
      " g2D)                                                            \n",
      "                                                                 \n",
      " conv2d_3 (Conv2D)           (None, 3, 3, 256)         131328    \n",
      "                                                                 \n",
      " max_pooling2d_3 (MaxPoolin  (None, 3, 3, 256)         0         \n",
      " g2D)                                                            \n",
      "                                                                 \n",
      " batch_normalization (Batch  (None, 3, 3, 256)         1024      \n",
      " Normalization)                                                  \n",
      "                                                                 \n",
      " conv2d_4 (Conv2D)           (None, 3, 3, 512)         524800    \n",
      "                                                                 \n",
      " max_pooling2d_4 (MaxPoolin  (None, 3, 3, 512)         0         \n",
      " g2D)                                                            \n",
      "                                                                 \n",
      " flatten (Flatten)           (None, 4608)              0         \n",
      "                                                                 \n",
      " dense (Dense)               (None, 10)                46090     \n",
      "                                                                 \n",
      "=================================================================\n",
      "Total params: 744554 (2.84 MB)\n",
      "Trainable params: 744042 (2.84 MB)\n",
      "Non-trainable params: 512 (2.00 KB)\n",
      "_________________________________________________________________\n"
     ]
    }
   ],
   "source": [
    "model = Sequential([\n",
    "    Conv2D(input_shape = (28, 28, 1), filters = 32, kernel_size = (2, 2), padding = 'same', activation = 'relu'), MaxPooling2D(),\n",
    "    Conv2D(64, kernel_size = (2, 2), padding = 'same', activation = 'relu'), MaxPooling2D(),\n",
    "    Conv2D(128, kernel_size = (2, 2), padding = 'same', activation = 'relu'), MaxPooling2D(),\n",
    "    Conv2D(256, kernel_size = (2, 2), padding = 'same', activation = 'relu'), MaxPooling2D(pool_size = (1, 1)), BatchNormalization(),\n",
    "    Conv2D(512, kernel_size = (2, 2), padding = 'same', activation = 'relu'), MaxPooling2D(pool_size = (1, 1)),\n",
    "    Flatten(name = 'flatten'),\n",
    "    Dense(10, activation = 'softmax')\n",
    "])\n",
    "\n",
    "model.summary()"
   ]
  },
  {
   "cell_type": "code",
   "execution_count": 9,
   "id": "2aab534b",
   "metadata": {
    "execution": {
     "iopub.execute_input": "2024-02-15T07:06:59.613305Z",
     "iopub.status.busy": "2024-02-15T07:06:59.612774Z",
     "iopub.status.idle": "2024-02-15T07:06:59.640668Z",
     "shell.execute_reply": "2024-02-15T07:06:59.639258Z"
    },
    "papermill": {
     "duration": 0.041277,
     "end_time": "2024-02-15T07:06:59.643838",
     "exception": false,
     "start_time": "2024-02-15T07:06:59.602561",
     "status": "completed"
    },
    "tags": []
   },
   "outputs": [],
   "source": [
    "model.compile(optimizer = 'Adam', loss = 'categorical_crossentropy', metrics = ['accuracy'])"
   ]
  },
  {
   "cell_type": "code",
   "execution_count": 10,
   "id": "ab9af6e0",
   "metadata": {
    "execution": {
     "iopub.execute_input": "2024-02-15T07:06:59.664118Z",
     "iopub.status.busy": "2024-02-15T07:06:59.663659Z",
     "iopub.status.idle": "2024-02-15T07:06:59.669255Z",
     "shell.execute_reply": "2024-02-15T07:06:59.667959Z"
    },
    "papermill": {
     "duration": 0.018822,
     "end_time": "2024-02-15T07:06:59.671869",
     "exception": false,
     "start_time": "2024-02-15T07:06:59.653047",
     "status": "completed"
    },
    "tags": []
   },
   "outputs": [],
   "source": [
    "early_stopping = EarlyStopping(monitor = 'val_loss', patience = 4, restore_best_weights = True)"
   ]
  },
  {
   "cell_type": "code",
   "execution_count": 11,
   "id": "1d8a5cbd",
   "metadata": {
    "execution": {
     "iopub.execute_input": "2024-02-15T07:06:59.692754Z",
     "iopub.status.busy": "2024-02-15T07:06:59.691492Z",
     "iopub.status.idle": "2024-02-15T07:14:43.881348Z",
     "shell.execute_reply": "2024-02-15T07:14:43.879749Z"
    },
    "papermill": {
     "duration": 464.208169,
     "end_time": "2024-02-15T07:14:43.888653",
     "exception": false,
     "start_time": "2024-02-15T07:06:59.680484",
     "status": "completed"
    },
    "tags": []
   },
   "outputs": [
    {
     "name": "stdout",
     "output_type": "stream",
     "text": [
      "Epoch 1/50\n",
      "919/919 [==============================] - 56s 59ms/step - loss: 0.1540 - accuracy: 0.9504 - val_loss: 0.0704 - val_accuracy: 0.9782\n",
      "Epoch 2/50\n",
      "919/919 [==============================] - 50s 55ms/step - loss: 0.0641 - accuracy: 0.9811 - val_loss: 0.1024 - val_accuracy: 0.9719\n",
      "Epoch 3/50\n",
      "919/919 [==============================] - 50s 54ms/step - loss: 0.0478 - accuracy: 0.9854 - val_loss: 0.1078 - val_accuracy: 0.9783\n",
      "Epoch 4/50\n",
      "919/919 [==============================] - 51s 56ms/step - loss: 0.0410 - accuracy: 0.9878 - val_loss: 0.1148 - val_accuracy: 0.9743\n",
      "Epoch 5/50\n",
      "919/919 [==============================] - 52s 56ms/step - loss: 0.0353 - accuracy: 0.9891 - val_loss: 0.0675 - val_accuracy: 0.9822\n",
      "Epoch 6/50\n",
      "919/919 [==============================] - 53s 58ms/step - loss: 0.0294 - accuracy: 0.9900 - val_loss: 0.0756 - val_accuracy: 0.9815\n",
      "Epoch 7/50\n",
      "919/919 [==============================] - 53s 57ms/step - loss: 0.0258 - accuracy: 0.9923 - val_loss: 0.0783 - val_accuracy: 0.9823\n",
      "Epoch 8/50\n",
      "919/919 [==============================] - 49s 53ms/step - loss: 0.0189 - accuracy: 0.9941 - val_loss: 0.0973 - val_accuracy: 0.9742\n",
      "Epoch 9/50\n",
      "919/919 [==============================] - 50s 54ms/step - loss: 0.0182 - accuracy: 0.9947 - val_loss: 0.0688 - val_accuracy: 0.9845\n"
     ]
    }
   ],
   "source": [
    "history = model.fit(x_train, y_train, epochs = 50, batch_size = 32, validation_data = (x_test, y_test), callbacks = [early_stopping])"
   ]
  },
  {
   "cell_type": "code",
   "execution_count": 12,
   "id": "14bf89c9",
   "metadata": {
    "execution": {
     "iopub.execute_input": "2024-02-15T07:14:44.816015Z",
     "iopub.status.busy": "2024-02-15T07:14:44.815006Z",
     "iopub.status.idle": "2024-02-15T07:14:45.112566Z",
     "shell.execute_reply": "2024-02-15T07:14:45.111153Z"
    },
    "papermill": {
     "duration": 0.72169,
     "end_time": "2024-02-15T07:14:45.115279",
     "exception": false,
     "start_time": "2024-02-15T07:14:44.393589",
     "status": "completed"
    },
    "tags": []
   },
   "outputs": [
    {
     "data": {
      "image/png": "[encoded data removed]",
      "text/plain": [
       "<Figure size 640x480 with 1 Axes>"
      ]
     },
     "metadata": {},
     "output_type": "display_data"
    }
   ],
   "source": [
    "plt.plot(history.history['accuracy'], label = 'Training Accuracy')\n",
    "plt.plot(history.history['val_accuracy'], label = 'Validation Accuracy')\n",
    "plt.xlabel('Epochs')\n",
    "plt.ylabel('Accuracy')\n",
    "plt.title('Training and Validation Accuracy')\n",
    "plt.legend()\n",
    "plt.show()"
   ]
  },
  {
   "cell_type": "code",
   "execution_count": 13,
   "id": "8fd8e7a3",
   "metadata": {
    "execution": {
     "iopub.execute_input": "2024-02-15T07:14:45.937962Z",
     "iopub.status.busy": "2024-02-15T07:14:45.937094Z",
     "iopub.status.idle": "2024-02-15T07:16:00.315161Z",
     "shell.execute_reply": "2024-02-15T07:16:00.313980Z"
    },
    "papermill": {
     "duration": 74.796322,
     "end_time": "2024-02-15T07:16:00.317880",
     "exception": false,
     "start_time": "2024-02-15T07:14:45.521558",
     "status": "completed"
    },
    "tags": []
   },
   "outputs": [],
   "source": [
    "new = pd.DataFrame(columns = ['Matrix'])\n",
    "for x in range(len(df)) :\n",
    "    new.loc[x,\"Matrix\"] = np.reshape(df.loc[x,\"pixel0\":\"pixel783\"].values/255.0,(28, 28))\n",
    "x = new[\"Matrix\"].values\n",
    "x_test = np.array(x.tolist())\n",
    "x_test = x_test.reshape(-1, 28, 28, 1)"
   ]
  },
  {
   "cell_type": "code",
   "execution_count": 14,
   "id": "e458f039",
   "metadata": {
    "execution": {
     "iopub.execute_input": "2024-02-15T07:16:01.273987Z",
     "iopub.status.busy": "2024-02-15T07:16:01.273544Z",
     "iopub.status.idle": "2024-02-15T07:16:22.484384Z",
     "shell.execute_reply": "2024-02-15T07:16:22.483029Z"
    },
    "papermill": {
     "duration": 21.653998,
     "end_time": "2024-02-15T07:16:22.486965",
     "exception": false,
     "start_time": "2024-02-15T07:16:00.832967",
     "status": "completed"
    },
    "tags": []
   },
   "outputs": [
    {
     "name": "stdout",
     "output_type": "stream",
     "text": [
      "1313/1313 [==============================] - 15s 12ms/step\n"
     ]
    },
    {
     "data": {
      "text/plain": [
       "array([1, 0, 1, ..., 7, 6, 9])"
      ]
     },
     "execution_count": 14,
     "metadata": {},
     "output_type": "execute_result"
    }
   ],
   "source": [
    "predictions = model.predict(x_test)\n",
    "predictions = np.argmax(predictions, axis = 1)\n",
    "predictions"
   ]
  },
  {
   "cell_type": "code",
   "execution_count": 15,
   "id": "4b031b2c",
   "metadata": {
    "execution": {
     "iopub.execute_input": "2024-02-15T07:16:23.364325Z",
     "iopub.status.busy": "2024-02-15T07:16:23.363405Z",
     "iopub.status.idle": "2024-02-15T07:16:47.446843Z",
     "shell.execute_reply": "2024-02-15T07:16:47.445615Z"
    },
    "papermill": {
     "duration": 24.523574,
     "end_time": "2024-02-15T07:16:47.449778",
     "exception": false,
     "start_time": "2024-02-15T07:16:22.926204",
     "status": "completed"
    },
    "tags": []
   },
   "outputs": [],
   "source": [
    "final = pd.DataFrame(columns = [\"ImageId\", \"Label\"])\n",
    "final[\"Label\"] = predictions\n",
    "for i in range(len(final)) :\n",
    "    final.loc[i, \"ImageId\"] = int(i + 1)\n",
    "final = final.set_index(\"ImageId\")"
   ]
  },
  {
   "cell_type": "code",
   "execution_count": 16,
   "id": "fb171e53",
   "metadata": {
    "execution": {
     "iopub.execute_input": "2024-02-15T07:16:48.431627Z",
     "iopub.status.busy": "2024-02-15T07:16:48.431096Z",
     "iopub.status.idle": "2024-02-15T07:16:48.466701Z",
     "shell.execute_reply": "2024-02-15T07:16:48.465555Z"
    },
    "papermill": {
     "duration": 0.480326,
     "end_time": "2024-02-15T07:16:48.469716",
     "exception": false,
     "start_time": "2024-02-15T07:16:47.989390",
     "status": "completed"
    },
    "tags": []
   },
   "outputs": [],
   "source": [
    "final.to_csv(\"sample.csv\")"
   ]
  }
 ],
 "metadata": {
  "kaggle": {
   "accelerator": "none",
   "dataSources": [
    {
     "databundleVersionId": 861823,
     "sourceId": 3004,
     "sourceType": "competition"
    }
   ],
   "dockerImageVersionId": 30635,
   "isGpuEnabled": false,
   "isInternetEnabled": true,
   "language": "python",
   "sourceType": "notebook"
  },
  "kernelspec": {
   "display_name": "Python 3",
   "language": "python",
   "name": "python3"
  },
  "language_info": {
   "codemirror_mode": {
    "name": "ipython",
    "version": 3
   },
   "file_extension": ".py",
   "mimetype": "text/x-python",
   "name": "python",
   "nbconvert_exporter": "python",
   "pygments_lexer": "ipython3",
   "version": "3.10.12"
  },
  "papermill": {
   "default_parameters": {},
   "duration": 727.548969,
   "end_time": "2024-02-15T07:16:52.314364",
   "environment_variables": {},
   "exception": null,
   "input_path": "__notebook__.ipynb",
   "output_path": "__notebook__.ipynb",
   "parameters": {},
   "start_time": "2024-02-15T07:04:44.765395",
   "version": "2.4.0"
  }
 },
 "nbformat": 4,
 "nbformat_minor": 5
}
