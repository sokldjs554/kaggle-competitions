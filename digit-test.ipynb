{
 "cells": [
  {
   "cell_type": "code",
   "execution_count": 1,
   "id": "1aa6f32f",
   "metadata": {
    "_cell_guid": "b1076dfc-b9ad-4769-8c92-a6c4dae69d19",
    "_uuid": "8f2839f25d086af736a60e9eeb907d3b93b6e0e5",
    "execution": {
     "iopub.execute_input": "2024-02-15T07:41:07.690875Z",
     "iopub.status.busy": "2024-02-15T07:41:07.690494Z",
     "iopub.status.idle": "2024-02-15T07:41:08.620258Z",
     "shell.execute_reply": "2024-02-15T07:41:08.619210Z"
    },
    "papermill": {
     "duration": 0.940946,
     "end_time": "2024-02-15T07:41:08.623085",
     "exception": false,
     "start_time": "2024-02-15T07:41:07.682139",
     "status": "completed"
    },
    "tags": []
   },
   "outputs": [
    {
     "name": "stdout",
     "output_type": "stream",
     "text": [
      "/kaggle/input/digit-recognizer/sample_submission.csv\n",
      "/kaggle/input/digit-recognizer/train.csv\n",
      "/kaggle/input/digit-recognizer/test.csv\n"
     ]
    }
   ],
   "source": [
    "# This Python 3 environment comes with many helpful analytics libraries installed\n",
    "# It is defined by the kaggle/python Docker image: https://github.com/kaggle/docker-python\n",
    "# For example, here's several helpful packages to load\n",
    "\n",
    "import numpy as np # linear algebra\n",
    "import pandas as pd # data processing, CSV file I/O (e.g. pd.read_csv)\n",
    "\n",
    "# Input data files are available in the read-only \"../input/\" directory\n",
    "# For example, running this (by clicking run or pressing Shift+Enter) will list all files under the input directory\n",
    "\n",
    "import os\n",
    "for dirname, _, filenames in os.walk('/kaggle/input'):\n",
    "    for filename in filenames:\n",
    "        print(os.path.join(dirname, filename))\n",
    "\n",
    "# You can write up to 20GB to the current directory (/kaggle/working/) that gets preserved as output when you create a version using \"Save & Run All\" \n",
    "# You can also write temporary files to /kaggle/temp/, but they won't be saved outside of the current session"
   ]
  },
  {
   "cell_type": "code",
   "execution_count": 2,
   "id": "dafeb11f",
   "metadata": {
    "execution": {
     "iopub.execute_input": "2024-02-15T07:41:08.637746Z",
     "iopub.status.busy": "2024-02-15T07:41:08.637197Z",
     "iopub.status.idle": "2024-02-15T07:41:23.983686Z",
     "shell.execute_reply": "2024-02-15T07:41:23.982337Z"
    },
    "papermill": {
     "duration": 15.357099,
     "end_time": "2024-02-15T07:41:23.986694",
     "exception": false,
     "start_time": "2024-02-15T07:41:08.629595",
     "status": "completed"
    },
    "tags": []
   },
   "outputs": [],
   "source": [
    "import numpy as np\n",
    "import pandas as pd\n",
    "import matplotlib.pyplot as plt\n",
    "import os\n",
    "import random\n",
    "import tensorflow as tf\n",
    "\n",
    "import warnings\n",
    "warnings.filterwarnings(\"ignore\")\n",
    "\n",
    "from tensorflow.keras.models import Sequential\n",
    "from tensorflow.keras.utils import to_categorical\n",
    "from tensorflow.keras.callbacks import EarlyStopping\n",
    "from tensorflow.keras.layers import Conv2D, MaxPooling2D, Dense, Flatten, BatchNormalization\n",
    "\n",
    "from sklearn.model_selection import train_test_split"
   ]
  },
  {
   "cell_type": "code",
   "execution_count": 3,
   "id": "babef1eb",
   "metadata": {
    "execution": {
     "iopub.execute_input": "2024-02-15T07:41:24.001717Z",
     "iopub.status.busy": "2024-02-15T07:41:24.001013Z",
     "iopub.status.idle": "2024-02-15T07:41:28.441830Z",
     "shell.execute_reply": "2024-02-15T07:41:28.440660Z"
    },
    "papermill": {
     "duration": 4.451292,
     "end_time": "2024-02-15T07:41:28.444398",
     "exception": false,
     "start_time": "2024-02-15T07:41:23.993106",
     "status": "completed"
    },
    "tags": []
   },
   "outputs": [
    {
     "data": {
      "text/html": [
       "<div>\n",
       "<style scoped>\n",
       "    .dataframe tbody tr th:only-of-type {\n",
       "        vertical-align: middle;\n",
       "    }\n",
       "\n",
       "    .dataframe tbody tr th {\n",
       "        vertical-align: top;\n",
       "    }\n",
       "\n",
       "    .dataframe thead th {\n",
       "        text-align: right;\n",
       "    }\n",
       "</style>\n",
       "<table border=\"1\" class=\"dataframe\">\n",
       "  <thead>\n",
       "    <tr style=\"text-align: right;\">\n",
       "      <th></th>\n",
       "      <th>label</th>\n",
       "      <th>pixel0</th>\n",
       "      <th>pixel1</th>\n",
       "      <th>pixel2</th>\n",
       "      <th>pixel3</th>\n",
       "      <th>pixel4</th>\n",
       "      <th>pixel5</th>\n",
       "      <th>pixel6</th>\n",
       "      <th>pixel7</th>\n",
       "      <th>pixel8</th>\n",
       "      <th>...</th>\n",
       "      <th>pixel774</th>\n",
       "      <th>pixel775</th>\n",
       "      <th>pixel776</th>\n",
       "      <th>pixel777</th>\n",
       "      <th>pixel778</th>\n",
       "      <th>pixel779</th>\n",
       "      <th>pixel780</th>\n",
       "      <th>pixel781</th>\n",
       "      <th>pixel782</th>\n",
       "      <th>pixel783</th>\n",
       "    </tr>\n",
       "  </thead>\n",
       "  <tbody>\n",
       "    <tr>\n",
       "      <th>0</th>\n",
       "      <td>1</td>\n",
       "      <td>0</td>\n",
       "      <td>0</td>\n",
       "      <td>0</td>\n",
       "      <td>0</td>\n",
       "      <td>0</td>\n",
       "      <td>0</td>\n",
       "      <td>0</td>\n",
       "      <td>0</td>\n",
       "      <td>0</td>\n",
       "      <td>...</td>\n",
       "      <td>0</td>\n",
       "      <td>0</td>\n",
       "      <td>0</td>\n",
       "      <td>0</td>\n",
       "      <td>0</td>\n",
       "      <td>0</td>\n",
       "      <td>0</td>\n",
       "      <td>0</td>\n",
       "      <td>0</td>\n",
       "      <td>0</td>\n",
       "    </tr>\n",
       "    <tr>\n",
       "      <th>1</th>\n",
       "      <td>0</td>\n",
       "      <td>0</td>\n",
       "      <td>0</td>\n",
       "      <td>0</td>\n",
       "      <td>0</td>\n",
       "      <td>0</td>\n",
       "      <td>0</td>\n",
       "      <td>0</td>\n",
       "      <td>0</td>\n",
       "      <td>0</td>\n",
       "      <td>...</td>\n",
       "      <td>0</td>\n",
       "      <td>0</td>\n",
       "      <td>0</td>\n",
       "      <td>0</td>\n",
       "      <td>0</td>\n",
       "      <td>0</td>\n",
       "      <td>0</td>\n",
       "      <td>0</td>\n",
       "      <td>0</td>\n",
       "      <td>0</td>\n",
       "    </tr>\n",
       "    <tr>\n",
       "      <th>2</th>\n",
       "      <td>1</td>\n",
       "      <td>0</td>\n",
       "      <td>0</td>\n",
       "      <td>0</td>\n",
       "      <td>0</td>\n",
       "      <td>0</td>\n",
       "      <td>0</td>\n",
       "      <td>0</td>\n",
       "      <td>0</td>\n",
       "      <td>0</td>\n",
       "      <td>...</td>\n",
       "      <td>0</td>\n",
       "      <td>0</td>\n",
       "      <td>0</td>\n",
       "      <td>0</td>\n",
       "      <td>0</td>\n",
       "      <td>0</td>\n",
       "      <td>0</td>\n",
       "      <td>0</td>\n",
       "      <td>0</td>\n",
       "      <td>0</td>\n",
       "    </tr>\n",
       "    <tr>\n",
       "      <th>3</th>\n",
       "      <td>4</td>\n",
       "      <td>0</td>\n",
       "      <td>0</td>\n",
       "      <td>0</td>\n",
       "      <td>0</td>\n",
       "      <td>0</td>\n",
       "      <td>0</td>\n",
       "      <td>0</td>\n",
       "      <td>0</td>\n",
       "      <td>0</td>\n",
       "      <td>...</td>\n",
       "      <td>0</td>\n",
       "      <td>0</td>\n",
       "      <td>0</td>\n",
       "      <td>0</td>\n",
       "      <td>0</td>\n",
       "      <td>0</td>\n",
       "      <td>0</td>\n",
       "      <td>0</td>\n",
       "      <td>0</td>\n",
       "      <td>0</td>\n",
       "    </tr>\n",
       "    <tr>\n",
       "      <th>4</th>\n",
       "      <td>0</td>\n",
       "      <td>0</td>\n",
       "      <td>0</td>\n",
       "      <td>0</td>\n",
       "      <td>0</td>\n",
       "      <td>0</td>\n",
       "      <td>0</td>\n",
       "      <td>0</td>\n",
       "      <td>0</td>\n",
       "      <td>0</td>\n",
       "      <td>...</td>\n",
       "      <td>0</td>\n",
       "      <td>0</td>\n",
       "      <td>0</td>\n",
       "      <td>0</td>\n",
       "      <td>0</td>\n",
       "      <td>0</td>\n",
       "      <td>0</td>\n",
       "      <td>0</td>\n",
       "      <td>0</td>\n",
       "      <td>0</td>\n",
       "    </tr>\n",
       "  </tbody>\n",
       "</table>\n",
       "<p>5 rows × 785 columns</p>\n",
       "</div>"
      ],
      "text/plain": [
       "   label  pixel0  pixel1  pixel2  pixel3  pixel4  pixel5  pixel6  pixel7  \\\n",
       "0      1       0       0       0       0       0       0       0       0   \n",
       "1      0       0       0       0       0       0       0       0       0   \n",
       "2      1       0       0       0       0       0       0       0       0   \n",
       "3      4       0       0       0       0       0       0       0       0   \n",
       "4      0       0       0       0       0       0       0       0       0   \n",
       "\n",
       "   pixel8  ...  pixel774  pixel775  pixel776  pixel777  pixel778  pixel779  \\\n",
       "0       0  ...         0         0         0         0         0         0   \n",
       "1       0  ...         0         0         0         0         0         0   \n",
       "2       0  ...         0         0         0         0         0         0   \n",
       "3       0  ...         0         0         0         0         0         0   \n",
       "4       0  ...         0         0         0         0         0         0   \n",
       "\n",
       "   pixel780  pixel781  pixel782  pixel783  \n",
       "0         0         0         0         0  \n",
       "1         0         0         0         0  \n",
       "2         0         0         0         0  \n",
       "3         0         0         0         0  \n",
       "4         0         0         0         0  \n",
       "\n",
       "[5 rows x 785 columns]"
      ]
     },
     "execution_count": 3,
     "metadata": {},
     "output_type": "execute_result"
    }
   ],
   "source": [
    "df = pd.read_csv(\"/kaggle/input/digit-recognizer/train.csv\")\n",
    "df.head()"
   ]
  },
  {
   "cell_type": "code",
   "execution_count": 4,
   "id": "89d32231",
   "metadata": {
    "execution": {
     "iopub.execute_input": "2024-02-15T07:41:28.461577Z",
     "iopub.status.busy": "2024-02-15T07:41:28.459358Z",
     "iopub.status.idle": "2024-02-15T07:41:28.473962Z",
     "shell.execute_reply": "2024-02-15T07:41:28.472756Z"
    },
    "papermill": {
     "duration": 0.02574,
     "end_time": "2024-02-15T07:41:28.476755",
     "exception": false,
     "start_time": "2024-02-15T07:41:28.451015",
     "status": "completed"
    },
    "tags": []
   },
   "outputs": [
    {
     "data": {
      "text/html": [
       "<div>\n",
       "<style scoped>\n",
       "    .dataframe tbody tr th:only-of-type {\n",
       "        vertical-align: middle;\n",
       "    }\n",
       "\n",
       "    .dataframe tbody tr th {\n",
       "        vertical-align: top;\n",
       "    }\n",
       "\n",
       "    .dataframe thead th {\n",
       "        text-align: right;\n",
       "    }\n",
       "</style>\n",
       "<table border=\"1\" class=\"dataframe\">\n",
       "  <thead>\n",
       "    <tr style=\"text-align: right;\">\n",
       "      <th></th>\n",
       "      <th>label</th>\n",
       "      <th>matrice</th>\n",
       "    </tr>\n",
       "  </thead>\n",
       "  <tbody>\n",
       "  </tbody>\n",
       "</table>\n",
       "</div>"
      ],
      "text/plain": [
       "Empty DataFrame\n",
       "Columns: [label, matrice]\n",
       "Index: []"
      ]
     },
     "execution_count": 4,
     "metadata": {},
     "output_type": "execute_result"
    }
   ],
   "source": [
    "new_def = pd.DataFrame(columns = [\"label\", \"matrice\"])\n",
    "new_def"
   ]
  },
  {
   "cell_type": "code",
   "execution_count": 5,
   "id": "a201ce05",
   "metadata": {
    "execution": {
     "iopub.execute_input": "2024-02-15T07:41:28.492428Z",
     "iopub.status.busy": "2024-02-15T07:41:28.492024Z",
     "iopub.status.idle": "2024-02-15T07:43:07.397343Z",
     "shell.execute_reply": "2024-02-15T07:43:07.396070Z"
    },
    "papermill": {
     "duration": 98.916551,
     "end_time": "2024-02-15T07:43:07.400270",
     "exception": false,
     "start_time": "2024-02-15T07:41:28.483719",
     "status": "completed"
    },
    "tags": []
   },
   "outputs": [],
   "source": [
    "for x in range(len(df)) :\n",
    "    new_def.loc[x,\"label\"] = df.loc[x,\"label\"]\n",
    "    new_def.loc[x,\"matrice\"] = np.reshape(df.loc[x,\"pixel0\":\"pixel783\"].values/255.0,(28, 28))"
   ]
  },
  {
   "cell_type": "code",
   "execution_count": 6,
   "id": "8ef497f3",
   "metadata": {
    "execution": {
     "iopub.execute_input": "2024-02-15T07:43:07.416018Z",
     "iopub.status.busy": "2024-02-15T07:43:07.415578Z",
     "iopub.status.idle": "2024-02-15T07:43:07.738212Z",
     "shell.execute_reply": "2024-02-15T07:43:07.736930Z"
    },
    "papermill": {
     "duration": 0.333467,
     "end_time": "2024-02-15T07:43:07.740961",
     "exception": false,
     "start_time": "2024-02-15T07:43:07.407494",
     "status": "completed"
    },
    "tags": []
   },
   "outputs": [
    {
     "data": {
      "text/plain": [
       "<matplotlib.image.AxesImage at 0x7ee44e873bb0>"
      ]
     },
     "execution_count": 6,
     "metadata": {},
     "output_type": "execute_result"
    },
    {
     "data": {
      "image/png": "[encoded data removed]",
      "text/plain": [
       "<Figure size 640x480 with 1 Axes>"
      ]
     },
     "metadata": {},
     "output_type": "display_data"
    }
   ],
   "source": [
    "plt.imshow(new_def.loc[10, \"matrice\"], cmap = 'gray', interpolation = 'nearest')"
   ]
  },
  {
   "cell_type": "code",
   "execution_count": 7,
   "id": "0cfea027",
   "metadata": {
    "execution": {
     "iopub.execute_input": "2024-02-15T07:43:07.757408Z",
     "iopub.status.busy": "2024-02-15T07:43:07.756972Z",
     "iopub.status.idle": "2024-02-15T07:43:07.947666Z",
     "shell.execute_reply": "2024-02-15T07:43:07.946318Z"
    },
    "papermill": {
     "duration": 0.202504,
     "end_time": "2024-02-15T07:43:07.950619",
     "exception": false,
     "start_time": "2024-02-15T07:43:07.748115",
     "status": "completed"
    },
    "tags": []
   },
   "outputs": [],
   "source": [
    "x = new_def[\"matrice\"].values\n",
    "y = new_def[\"label\"].values\n",
    "\n",
    "x_train, x_test, y_train, y_test = train_test_split(x, y, test_size = 0.3, random_state = 40)\n",
    "\n",
    "x_train = np.array(x_train.tolist())\n",
    "x_train = x_train.reshape(-1, 28, 28, 1)\n",
    "y_train = np.array(y_train, dtype = np.int32)\n",
    "y_train = to_categorical(y_train, num_classes = 10)\n",
    "\n",
    "x_test = np.array(x_test.tolist())\n",
    "x_test = x_test.reshape(-1, 28, 28, 1)\n",
    "y_test = np.array(y_test, dtype = np.int32)\n",
    "y_test = to_categorical(y_test, num_classes = 10)"
   ]
  },
  {
   "cell_type": "code",
   "execution_count": 8,
   "id": "c92478ed",
   "metadata": {
    "execution": {
     "iopub.execute_input": "2024-02-15T07:43:07.967504Z",
     "iopub.status.busy": "2024-02-15T07:43:07.967065Z",
     "iopub.status.idle": "2024-02-15T07:43:08.318774Z",
     "shell.execute_reply": "2024-02-15T07:43:08.315007Z"
    },
    "papermill": {
     "duration": 0.380612,
     "end_time": "2024-02-15T07:43:08.338913",
     "exception": false,
     "start_time": "2024-02-15T07:43:07.958301",
     "status": "completed"
    },
    "tags": []
   },
   "outputs": [
    {
     "name": "stdout",
     "output_type": "stream",
     "text": [
      "Model: \"sequential\"\n",
      "_________________________________________________________________\n",
      " Layer (type)                Output Shape              Param #   \n",
      "=================================================================\n",
      " conv2d (Conv2D)             (None, 28, 28, 32)        160       \n",
      "                                                                 \n",
      " max_pooling2d (MaxPooling2  (None, 14, 14, 32)        0         \n",
      " D)                                                              \n",
      "                                                                 \n",
      " conv2d_1 (Conv2D)           (None, 14, 14, 64)        8256      \n",
      "                                                                 \n",
      " max_pooling2d_1 (MaxPoolin  (None, 7, 7, 64)          0         \n",
      " g2D)                                                            \n",
      "                                                                 \n",
      " conv2d_2 (Conv2D)           (None, 7, 7, 128)         32896     \n",
      "                                                                 \n",
      " max_pooling2d_2 (MaxPoolin  (None, 3, 3, 128)         0         \n",
      " g2D)                                                            \n",
      "                                                                 \n",
      " conv2d_3 (Conv2D)           (None, 3, 3, 256)         131328    \n",
      "                                                                 \n",
      " max_pooling2d_3 (MaxPoolin  (None, 3, 3, 256)         0         \n",
      " g2D)                                                            \n",
      "                                                                 \n",
      " batch_normalization (Batch  (None, 3, 3, 256)         1024      \n",
      " Normalization)                                                  \n",
      "                                                                 \n",
      " conv2d_4 (Conv2D)           (None, 3, 3, 512)         524800    \n",
      "                                                                 \n",
      " max_pooling2d_4 (MaxPoolin  (None, 3, 3, 512)         0         \n",
      " g2D)                                                            \n",
      "                                                                 \n",
      " flatten (Flatten)           (None, 4608)              0         \n",
      "                                                                 \n",
      " dense (Dense)               (None, 10)                46090     \n",
      "                                                                 \n",
      "=================================================================\n",
      "Total params: 744554 (2.84 MB)\n",
      "Trainable params: 744042 (2.84 MB)\n",
      "Non-trainable params: 512 (2.00 KB)\n",
      "_________________________________________________________________\n"
     ]
    }
   ],
   "source": [
    "model = Sequential([\n",
    "    Conv2D(input_shape = (28, 28, 1), filters = 32, kernel_size = (2, 2), padding = 'same', activation = 'relu'), MaxPooling2D(),\n",
    "    Conv2D(64, kernel_size = (2, 2), padding = 'same', activation = 'relu'), MaxPooling2D(),\n",
    "    Conv2D(128, kernel_size = (2, 2), padding = 'same', activation = 'relu'), MaxPooling2D(),\n",
    "    Conv2D(256, kernel_size = (2, 2), padding = 'same', activation = 'relu'), MaxPooling2D(pool_size = (1, 1)), BatchNormalization(),\n",
    "    Conv2D(512, kernel_size = (2, 2), padding = 'same', activation = 'relu'), MaxPooling2D(pool_size = (1, 1)),\n",
    "    Flatten(name = 'flatten'),\n",
    "    Dense(10, activation = 'softmax')\n",
    "])\n",
    "\n",
    "model.summary()"
   ]
  },
  {
   "cell_type": "code",
   "execution_count": 9,
   "id": "47573647",
   "metadata": {
    "execution": {
     "iopub.execute_input": "2024-02-15T07:43:08.363667Z",
     "iopub.status.busy": "2024-02-15T07:43:08.363251Z",
     "iopub.status.idle": "2024-02-15T07:43:08.384680Z",
     "shell.execute_reply": "2024-02-15T07:43:08.383739Z"
    },
    "papermill": {
     "duration": 0.037239,
     "end_time": "2024-02-15T07:43:08.387532",
     "exception": false,
     "start_time": "2024-02-15T07:43:08.350293",
     "status": "completed"
    },
    "tags": []
   },
   "outputs": [],
   "source": [
    "model.compile(optimizer = 'Adam', loss = 'categorical_crossentropy', metrics = ['accuracy'])"
   ]
  },
  {
   "cell_type": "code",
   "execution_count": 10,
   "id": "d0746c0e",
   "metadata": {
    "execution": {
     "iopub.execute_input": "2024-02-15T07:43:08.412167Z",
     "iopub.status.busy": "2024-02-15T07:43:08.411704Z",
     "iopub.status.idle": "2024-02-15T07:43:08.417583Z",
     "shell.execute_reply": "2024-02-15T07:43:08.416232Z"
    },
    "papermill": {
     "duration": 0.020784,
     "end_time": "2024-02-15T07:43:08.419926",
     "exception": false,
     "start_time": "2024-02-15T07:43:08.399142",
     "status": "completed"
    },
    "tags": []
   },
   "outputs": [],
   "source": [
    "early_stopping = EarlyStopping(monitor = 'val_loss', patience = 4, restore_best_weights = True)"
   ]
  },
  {
   "cell_type": "code",
   "execution_count": 11,
   "id": "f368b461",
   "metadata": {
    "execution": {
     "iopub.execute_input": "2024-02-15T07:43:08.443852Z",
     "iopub.status.busy": "2024-02-15T07:43:08.443379Z",
     "iopub.status.idle": "2024-02-15T07:50:01.202627Z",
     "shell.execute_reply": "2024-02-15T07:50:01.201270Z"
    },
    "papermill": {
     "duration": 412.774606,
     "end_time": "2024-02-15T07:50:01.205634",
     "exception": false,
     "start_time": "2024-02-15T07:43:08.431028",
     "status": "completed"
    },
    "tags": []
   },
   "outputs": [
    {
     "name": "stdout",
     "output_type": "stream",
     "text": [
      "Epoch 1/50\n",
      "919/919 [==============================] - 54s 57ms/step - loss: 0.1567 - accuracy: 0.9501 - val_loss: 0.2045 - val_accuracy: 0.9406\n",
      "Epoch 2/50\n",
      "919/919 [==============================] - 52s 56ms/step - loss: 0.0666 - accuracy: 0.9796 - val_loss: 0.1367 - val_accuracy: 0.9576\n",
      "Epoch 3/50\n",
      "919/919 [==============================] - 51s 56ms/step - loss: 0.0521 - accuracy: 0.9836 - val_loss: 0.0946 - val_accuracy: 0.9719\n",
      "Epoch 4/50\n",
      "919/919 [==============================] - 51s 56ms/step - loss: 0.0396 - accuracy: 0.9874 - val_loss: 0.0685 - val_accuracy: 0.9840\n",
      "Epoch 5/50\n",
      "919/919 [==============================] - 51s 55ms/step - loss: 0.0345 - accuracy: 0.9887 - val_loss: 0.0794 - val_accuracy: 0.9816\n",
      "Epoch 6/50\n",
      "919/919 [==============================] - 51s 56ms/step - loss: 0.0288 - accuracy: 0.9907 - val_loss: 0.1196 - val_accuracy: 0.9729\n",
      "Epoch 7/50\n",
      "919/919 [==============================] - 51s 56ms/step - loss: 0.0277 - accuracy: 0.9916 - val_loss: 0.0915 - val_accuracy: 0.9771\n",
      "Epoch 8/50\n",
      "919/919 [==============================] - 51s 56ms/step - loss: 0.0232 - accuracy: 0.9921 - val_loss: 0.0847 - val_accuracy: 0.9784\n"
     ]
    }
   ],
   "source": [
    "history = model.fit(x_train, y_train, epochs = 50, batch_size = 32, validation_data = (x_test, y_test), callbacks = [early_stopping])"
   ]
  },
  {
   "cell_type": "code",
   "execution_count": 12,
   "id": "26dd40a8",
   "metadata": {
    "execution": {
     "iopub.execute_input": "2024-02-15T07:50:02.358610Z",
     "iopub.status.busy": "2024-02-15T07:50:02.358206Z",
     "iopub.status.idle": "2024-02-15T07:50:32.669722Z",
     "shell.execute_reply": "2024-02-15T07:50:32.668352Z"
    },
    "papermill": {
     "duration": 31.493069,
     "end_time": "2024-02-15T07:50:33.238336",
     "exception": false,
     "start_time": "2024-02-15T07:50:01.745267",
     "status": "completed"
    },
    "tags": []
   },
   "outputs": [
    {
     "data": {
      "image/png": "[encoded data removed]",
      "text/plain": [
       "<Figure size 640x480 with 1 Axes>"
      ]
     },
     "metadata": {},
     "output_type": "display_data"
    }
   ],
   "source": [
    "plt.plot(history.history['accuracy'], label = 'Training Accuracy')\n",
    "plt.plot(history.history['val_accuracy'], label = 'Validation Accuracy')\n",
    "plt.xlabel('Epochs')\n",
    "plt.ylabel('Accuracy')\n",
    "plt.title('Training and Validation Accuracy')\n",
    "plt.legend()\n",
    "plt.show()"
   ]
  },
  {
   "cell_type": "code",
   "execution_count": 13,
   "id": "a887af9b",
   "metadata": {
    "execution": {
     "iopub.execute_input": "2024-02-15T07:50:34.324032Z",
     "iopub.status.busy": "2024-02-15T07:50:34.323582Z",
     "iopub.status.idle": "2024-02-15T07:51:50.434239Z",
     "shell.execute_reply": "2024-02-15T07:51:50.432966Z"
    },
    "papermill": {
     "duration": 76.655066,
     "end_time": "2024-02-15T07:51:50.437267",
     "exception": false,
     "start_time": "2024-02-15T07:50:33.782201",
     "status": "completed"
    },
    "tags": []
   },
   "outputs": [],
   "source": [
    "new = pd.DataFrame(columns = ['Matrix'])\n",
    "for x in range(len(df)) :\n",
    "    new.loc[x,\"Matrix\"] = np.reshape(df.loc[x,\"pixel0\":\"pixel783\"].values/255.0,(28, 28))\n",
    "x = new[\"Matrix\"].values\n",
    "x_test = np.array(x.tolist())\n",
    "x_test = x_test.reshape(-1, 28, 28, 1)"
   ]
  },
  {
   "cell_type": "code",
   "execution_count": 14,
   "id": "1f6a640b",
   "metadata": {
    "execution": {
     "iopub.execute_input": "2024-02-15T07:51:51.609033Z",
     "iopub.status.busy": "2024-02-15T07:51:51.608618Z",
     "iopub.status.idle": "2024-02-15T07:52:12.634188Z",
     "shell.execute_reply": "2024-02-15T07:52:12.631224Z"
    },
    "papermill": {
     "duration": 21.655252,
     "end_time": "2024-02-15T07:52:12.637538",
     "exception": false,
     "start_time": "2024-02-15T07:51:50.982286",
     "status": "completed"
    },
    "tags": []
   },
   "outputs": [
    {
     "name": "stdout",
     "output_type": "stream",
     "text": [
      "1313/1313 [==============================] - 15s 11ms/step\n"
     ]
    },
    {
     "data": {
      "text/plain": [
       "array([1, 0, 1, ..., 7, 6, 9])"
      ]
     },
     "execution_count": 14,
     "metadata": {},
     "output_type": "execute_result"
    }
   ],
   "source": [
    "predictions = model.predict(x_test)\n",
    "predictions = np.argmax(predictions, axis = 1)\n",
    "predictions"
   ]
  },
  {
   "cell_type": "code",
   "execution_count": 15,
   "id": "9ff496e7",
   "metadata": {
    "execution": {
     "iopub.execute_input": "2024-02-15T07:52:13.773273Z",
     "iopub.status.busy": "2024-02-15T07:52:13.772324Z",
     "iopub.status.idle": "2024-02-15T07:52:38.278223Z",
     "shell.execute_reply": "2024-02-15T07:52:38.277170Z"
    },
    "papermill": {
     "duration": 25.080241,
     "end_time": "2024-02-15T07:52:38.281093",
     "exception": false,
     "start_time": "2024-02-15T07:52:13.200852",
     "status": "completed"
    },
    "tags": []
   },
   "outputs": [],
   "source": [
    "final = pd.DataFrame(columns = [\"ImageId\", \"Label\"])\n",
    "final[\"Label\"] = predictions\n",
    "for i in range(len(final)) :\n",
    "    final.loc[i, \"ImageId\"] = int(i + 1)\n",
    "final = final.set_index(\"ImageId\")"
   ]
  },
  {
   "cell_type": "code",
   "execution_count": 16,
   "id": "817c3804",
   "metadata": {
    "execution": {
     "iopub.execute_input": "2024-02-15T07:52:39.430200Z",
     "iopub.status.busy": "2024-02-15T07:52:39.429501Z",
     "iopub.status.idle": "2024-02-15T07:52:39.489918Z",
     "shell.execute_reply": "2024-02-15T07:52:39.488775Z"
    },
    "papermill": {
     "duration": 0.643654,
     "end_time": "2024-02-15T07:52:39.492914",
     "exception": false,
     "start_time": "2024-02-15T07:52:38.849260",
     "status": "completed"
    },
    "tags": []
   },
   "outputs": [],
   "source": [
    "submission = pd.read_csv(\"/kaggle/input/digit-recognizer/sample_submission.csv\")\n",
    "submission = final\n",
    "submission.to_csv('final_submission.csv', index = False)"
   ]
  }
 ],
 "metadata": {
  "kaggle": {
   "accelerator": "none",
   "dataSources": [
    {
     "databundleVersionId": 861823,
     "sourceId": 3004,
     "sourceType": "competition"
    }
   ],
   "dockerImageVersionId": 30635,
   "isGpuEnabled": false,
   "isInternetEnabled": true,
   "language": "python",
   "sourceType": "notebook"
  },
  "kernelspec": {
   "display_name": "Python 3",
   "language": "python",
   "name": "python3"
  },
  "language_info": {
   "codemirror_mode": {
    "name": "ipython",
    "version": 3
   },
   "file_extension": ".py",
   "mimetype": "text/x-python",
   "name": "python",
   "nbconvert_exporter": "python",
   "pygments_lexer": "ipython3",
   "version": "3.10.12"
  },
  "papermill": {
   "default_parameters": {},
   "duration": 699.52242,
   "end_time": "2024-02-15T07:52:42.897136",
   "environment_variables": {},
   "exception": null,
   "input_path": "__notebook__.ipynb",
   "output_path": "__notebook__.ipynb",
   "parameters": {},
   "start_time": "2024-02-15T07:41:03.374716",
   "version": "2.4.0"
  }
 },
 "nbformat": 4,
 "nbformat_minor": 5
}
