{
 "cells": [
  {
   "cell_type": "code",
   "execution_count": 1,
   "id": "535e812d",
   "metadata": {
    "_cell_guid": "b1076dfc-b9ad-4769-8c92-a6c4dae69d19",
    "_uuid": "8f2839f25d086af736a60e9eeb907d3b93b6e0e5",
    "execution": {
     "iopub.execute_input": "2024-02-15T08:10:05.575820Z",
     "iopub.status.busy": "2024-02-15T08:10:05.575272Z",
     "iopub.status.idle": "2024-02-15T08:10:06.585101Z",
     "shell.execute_reply": "2024-02-15T08:10:06.584067Z"
    },
    "papermill": {
     "duration": 1.021213,
     "end_time": "2024-02-15T08:10:06.588022",
     "exception": false,
     "start_time": "2024-02-15T08:10:05.566809",
     "status": "completed"
    },
    "tags": []
   },
   "outputs": [
    {
     "name": "stdout",
     "output_type": "stream",
     "text": [
      "/kaggle/input/digit-recognizer/sample_submission.csv\n",
      "/kaggle/input/digit-recognizer/train.csv\n",
      "/kaggle/input/digit-recognizer/test.csv\n"
     ]
    }
   ],
   "source": [
    "# This Python 3 environment comes with many helpful analytics libraries installed\n",
    "# It is defined by the kaggle/python Docker image: https://github.com/kaggle/docker-python\n",
    "# For example, here's several helpful packages to load\n",
    "\n",
    "import numpy as np # linear algebra\n",
    "import pandas as pd # data processing, CSV file I/O (e.g. pd.read_csv)\n",
    "\n",
    "# Input data files are available in the read-only \"../input/\" directory\n",
    "# For example, running this (by clicking run or pressing Shift+Enter) will list all files under the input directory\n",
    "\n",
    "import os\n",
    "for dirname, _, filenames in os.walk('/kaggle/input'):\n",
    "    for filename in filenames:\n",
    "        print(os.path.join(dirname, filename))\n",
    "\n",
    "# You can write up to 20GB to the current directory (/kaggle/working/) that gets preserved as output when you create a version using \"Save & Run All\" \n",
    "# You can also write temporary files to /kaggle/temp/, but they won't be saved outside of the current session"
   ]
  },
  {
   "cell_type": "code",
   "execution_count": 2,
   "id": "c1b618cf",
   "metadata": {
    "execution": {
     "iopub.execute_input": "2024-02-15T08:10:06.603870Z",
     "iopub.status.busy": "2024-02-15T08:10:06.603332Z",
     "iopub.status.idle": "2024-02-15T08:10:23.684040Z",
     "shell.execute_reply": "2024-02-15T08:10:23.682601Z"
    },
    "papermill": {
     "duration": 17.091923,
     "end_time": "2024-02-15T08:10:23.687060",
     "exception": false,
     "start_time": "2024-02-15T08:10:06.595137",
     "status": "completed"
    },
    "tags": []
   },
   "outputs": [],
   "source": [
    "import numpy as np\n",
    "import pandas as pd\n",
    "import matplotlib.pyplot as plt\n",
    "import os\n",
    "import random\n",
    "import tensorflow as tf\n",
    "\n",
    "import warnings\n",
    "warnings.filterwarnings(\"ignore\")\n",
    "\n",
    "from tensorflow.keras.models import Sequential\n",
    "from tensorflow.keras.utils import to_categorical\n",
    "from tensorflow.keras.callbacks import EarlyStopping\n",
    "from tensorflow.keras.layers import Conv2D, MaxPooling2D, Dense, Flatten, BatchNormalization\n",
    "\n",
    "from sklearn.model_selection import train_test_split"
   ]
  },
  {
   "cell_type": "code",
   "execution_count": 3,
   "id": "ee6b91eb",
   "metadata": {
    "execution": {
     "iopub.execute_input": "2024-02-15T08:10:23.703223Z",
     "iopub.status.busy": "2024-02-15T08:10:23.702378Z",
     "iopub.status.idle": "2024-02-15T08:10:28.092110Z",
     "shell.execute_reply": "2024-02-15T08:10:28.090828Z"
    },
    "papermill": {
     "duration": 4.400926,
     "end_time": "2024-02-15T08:10:28.094849",
     "exception": false,
     "start_time": "2024-02-15T08:10:23.693923",
     "status": "completed"
    },
    "tags": []
   },
   "outputs": [
    {
     "data": {
      "text/html": [
       "<div>\n",
       "<style scoped>\n",
       "    .dataframe tbody tr th:only-of-type {\n",
       "        vertical-align: middle;\n",
       "    }\n",
       "\n",
       "    .dataframe tbody tr th {\n",
       "        vertical-align: top;\n",
       "    }\n",
       "\n",
       "    .dataframe thead th {\n",
       "        text-align: right;\n",
       "    }\n",
       "</style>\n",
       "<table border=\"1\" class=\"dataframe\">\n",
       "  <thead>\n",
       "    <tr style=\"text-align: right;\">\n",
       "      <th></th>\n",
       "      <th>label</th>\n",
       "      <th>pixel0</th>\n",
       "      <th>pixel1</th>\n",
       "      <th>pixel2</th>\n",
       "      <th>pixel3</th>\n",
       "      <th>pixel4</th>\n",
       "      <th>pixel5</th>\n",
       "      <th>pixel6</th>\n",
       "      <th>pixel7</th>\n",
       "      <th>pixel8</th>\n",
       "      <th>...</th>\n",
       "      <th>pixel774</th>\n",
       "      <th>pixel775</th>\n",
       "      <th>pixel776</th>\n",
       "      <th>pixel777</th>\n",
       "      <th>pixel778</th>\n",
       "      <th>pixel779</th>\n",
       "      <th>pixel780</th>\n",
       "      <th>pixel781</th>\n",
       "      <th>pixel782</th>\n",
       "      <th>pixel783</th>\n",
       "    </tr>\n",
       "  </thead>\n",
       "  <tbody>\n",
       "    <tr>\n",
       "      <th>0</th>\n",
       "      <td>1</td>\n",
       "      <td>0</td>\n",
       "      <td>0</td>\n",
       "      <td>0</td>\n",
       "      <td>0</td>\n",
       "      <td>0</td>\n",
       "      <td>0</td>\n",
       "      <td>0</td>\n",
       "      <td>0</td>\n",
       "      <td>0</td>\n",
       "      <td>...</td>\n",
       "      <td>0</td>\n",
       "      <td>0</td>\n",
       "      <td>0</td>\n",
       "      <td>0</td>\n",
       "      <td>0</td>\n",
       "      <td>0</td>\n",
       "      <td>0</td>\n",
       "      <td>0</td>\n",
       "      <td>0</td>\n",
       "      <td>0</td>\n",
       "    </tr>\n",
       "    <tr>\n",
       "      <th>1</th>\n",
       "      <td>0</td>\n",
       "      <td>0</td>\n",
       "      <td>0</td>\n",
       "      <td>0</td>\n",
       "      <td>0</td>\n",
       "      <td>0</td>\n",
       "      <td>0</td>\n",
       "      <td>0</td>\n",
       "      <td>0</td>\n",
       "      <td>0</td>\n",
       "      <td>...</td>\n",
       "      <td>0</td>\n",
       "      <td>0</td>\n",
       "      <td>0</td>\n",
       "      <td>0</td>\n",
       "      <td>0</td>\n",
       "      <td>0</td>\n",
       "      <td>0</td>\n",
       "      <td>0</td>\n",
       "      <td>0</td>\n",
       "      <td>0</td>\n",
       "    </tr>\n",
       "    <tr>\n",
       "      <th>2</th>\n",
       "      <td>1</td>\n",
       "      <td>0</td>\n",
       "      <td>0</td>\n",
       "      <td>0</td>\n",
       "      <td>0</td>\n",
       "      <td>0</td>\n",
       "      <td>0</td>\n",
       "      <td>0</td>\n",
       "      <td>0</td>\n",
       "      <td>0</td>\n",
       "      <td>...</td>\n",
       "      <td>0</td>\n",
       "      <td>0</td>\n",
       "      <td>0</td>\n",
       "      <td>0</td>\n",
       "      <td>0</td>\n",
       "      <td>0</td>\n",
       "      <td>0</td>\n",
       "      <td>0</td>\n",
       "      <td>0</td>\n",
       "      <td>0</td>\n",
       "    </tr>\n",
       "    <tr>\n",
       "      <th>3</th>\n",
       "      <td>4</td>\n",
       "      <td>0</td>\n",
       "      <td>0</td>\n",
       "      <td>0</td>\n",
       "      <td>0</td>\n",
       "      <td>0</td>\n",
       "      <td>0</td>\n",
       "      <td>0</td>\n",
       "      <td>0</td>\n",
       "      <td>0</td>\n",
       "      <td>...</td>\n",
       "      <td>0</td>\n",
       "      <td>0</td>\n",
       "      <td>0</td>\n",
       "      <td>0</td>\n",
       "      <td>0</td>\n",
       "      <td>0</td>\n",
       "      <td>0</td>\n",
       "      <td>0</td>\n",
       "      <td>0</td>\n",
       "      <td>0</td>\n",
       "    </tr>\n",
       "    <tr>\n",
       "      <th>4</th>\n",
       "      <td>0</td>\n",
       "      <td>0</td>\n",
       "      <td>0</td>\n",
       "      <td>0</td>\n",
       "      <td>0</td>\n",
       "      <td>0</td>\n",
       "      <td>0</td>\n",
       "      <td>0</td>\n",
       "      <td>0</td>\n",
       "      <td>0</td>\n",
       "      <td>...</td>\n",
       "      <td>0</td>\n",
       "      <td>0</td>\n",
       "      <td>0</td>\n",
       "      <td>0</td>\n",
       "      <td>0</td>\n",
       "      <td>0</td>\n",
       "      <td>0</td>\n",
       "      <td>0</td>\n",
       "      <td>0</td>\n",
       "      <td>0</td>\n",
       "    </tr>\n",
       "  </tbody>\n",
       "</table>\n",
       "<p>5 rows × 785 columns</p>\n",
       "</div>"
      ],
      "text/plain": [
       "   label  pixel0  pixel1  pixel2  pixel3  pixel4  pixel5  pixel6  pixel7  \\\n",
       "0      1       0       0       0       0       0       0       0       0   \n",
       "1      0       0       0       0       0       0       0       0       0   \n",
       "2      1       0       0       0       0       0       0       0       0   \n",
       "3      4       0       0       0       0       0       0       0       0   \n",
       "4      0       0       0       0       0       0       0       0       0   \n",
       "\n",
       "   pixel8  ...  pixel774  pixel775  pixel776  pixel777  pixel778  pixel779  \\\n",
       "0       0  ...         0         0         0         0         0         0   \n",
       "1       0  ...         0         0         0         0         0         0   \n",
       "2       0  ...         0         0         0         0         0         0   \n",
       "3       0  ...         0         0         0         0         0         0   \n",
       "4       0  ...         0         0         0         0         0         0   \n",
       "\n",
       "   pixel780  pixel781  pixel782  pixel783  \n",
       "0         0         0         0         0  \n",
       "1         0         0         0         0  \n",
       "2         0         0         0         0  \n",
       "3         0         0         0         0  \n",
       "4         0         0         0         0  \n",
       "\n",
       "[5 rows x 785 columns]"
      ]
     },
     "execution_count": 3,
     "metadata": {},
     "output_type": "execute_result"
    }
   ],
   "source": [
    "df = pd.read_csv(\"/kaggle/input/digit-recognizer/train.csv\")\n",
    "df.head()"
   ]
  },
  {
   "cell_type": "code",
   "execution_count": 4,
   "id": "05cbce4d",
   "metadata": {
    "execution": {
     "iopub.execute_input": "2024-02-15T08:10:28.112924Z",
     "iopub.status.busy": "2024-02-15T08:10:28.112519Z",
     "iopub.status.idle": "2024-02-15T08:10:28.125164Z",
     "shell.execute_reply": "2024-02-15T08:10:28.123717Z"
    },
    "papermill": {
     "duration": 0.023777,
     "end_time": "2024-02-15T08:10:28.127677",
     "exception": false,
     "start_time": "2024-02-15T08:10:28.103900",
     "status": "completed"
    },
    "tags": []
   },
   "outputs": [
    {
     "data": {
      "text/html": [
       "<div>\n",
       "<style scoped>\n",
       "    .dataframe tbody tr th:only-of-type {\n",
       "        vertical-align: middle;\n",
       "    }\n",
       "\n",
       "    .dataframe tbody tr th {\n",
       "        vertical-align: top;\n",
       "    }\n",
       "\n",
       "    .dataframe thead th {\n",
       "        text-align: right;\n",
       "    }\n",
       "</style>\n",
       "<table border=\"1\" class=\"dataframe\">\n",
       "  <thead>\n",
       "    <tr style=\"text-align: right;\">\n",
       "      <th></th>\n",
       "      <th>label</th>\n",
       "      <th>matrice</th>\n",
       "    </tr>\n",
       "  </thead>\n",
       "  <tbody>\n",
       "  </tbody>\n",
       "</table>\n",
       "</div>"
      ],
      "text/plain": [
       "Empty DataFrame\n",
       "Columns: [label, matrice]\n",
       "Index: []"
      ]
     },
     "execution_count": 4,
     "metadata": {},
     "output_type": "execute_result"
    }
   ],
   "source": [
    "new_def = pd.DataFrame(columns = [\"label\", \"matrice\"])\n",
    "new_def"
   ]
  },
  {
   "cell_type": "code",
   "execution_count": 5,
   "id": "07830884",
   "metadata": {
    "execution": {
     "iopub.execute_input": "2024-02-15T08:10:28.143671Z",
     "iopub.status.busy": "2024-02-15T08:10:28.143237Z",
     "iopub.status.idle": "2024-02-15T08:12:17.694876Z",
     "shell.execute_reply": "2024-02-15T08:12:17.693545Z"
    },
    "papermill": {
     "duration": 109.563399,
     "end_time": "2024-02-15T08:12:17.698070",
     "exception": false,
     "start_time": "2024-02-15T08:10:28.134671",
     "status": "completed"
    },
    "tags": []
   },
   "outputs": [],
   "source": [
    "for x in range(len(df)) :\n",
    "    new_def.loc[x,\"label\"] = df.loc[x,\"label\"]\n",
    "    new_def.loc[x,\"matrice\"] = np.reshape(df.loc[x,\"pixel0\":\"pixel783\"].values/255.0,(28, 28))"
   ]
  },
  {
   "cell_type": "code",
   "execution_count": 6,
   "id": "3ba74586",
   "metadata": {
    "execution": {
     "iopub.execute_input": "2024-02-15T08:12:17.714669Z",
     "iopub.status.busy": "2024-02-15T08:12:17.714198Z",
     "iopub.status.idle": "2024-02-15T08:12:18.050572Z",
     "shell.execute_reply": "2024-02-15T08:12:18.049314Z"
    },
    "papermill": {
     "duration": 0.347515,
     "end_time": "2024-02-15T08:12:18.053092",
     "exception": false,
     "start_time": "2024-02-15T08:12:17.705577",
     "status": "completed"
    },
    "tags": []
   },
   "outputs": [
    {
     "data": {
      "text/plain": [
       "<matplotlib.image.AxesImage at 0x7c291efc1b10>"
      ]
     },
     "execution_count": 6,
     "metadata": {},
     "output_type": "execute_result"
    },
    {
     "data": {
      "image/png": "[encoded data removed]",
      "text/plain": [
       "<Figure size 640x480 with 1 Axes>"
      ]
     },
     "metadata": {},
     "output_type": "display_data"
    }
   ],
   "source": [
    "plt.imshow(new_def.loc[10, \"matrice\"], cmap = 'gray', interpolation = 'nearest')"
   ]
  },
  {
   "cell_type": "code",
   "execution_count": 7,
   "id": "e3377c70",
   "metadata": {
    "execution": {
     "iopub.execute_input": "2024-02-15T08:12:18.069479Z",
     "iopub.status.busy": "2024-02-15T08:12:18.069053Z",
     "iopub.status.idle": "2024-02-15T08:12:18.284706Z",
     "shell.execute_reply": "2024-02-15T08:12:18.283455Z"
    },
    "papermill": {
     "duration": 0.227036,
     "end_time": "2024-02-15T08:12:18.287438",
     "exception": false,
     "start_time": "2024-02-15T08:12:18.060402",
     "status": "completed"
    },
    "tags": []
   },
   "outputs": [],
   "source": [
    "x = new_def[\"matrice\"].values\n",
    "y = new_def[\"label\"].values\n",
    "\n",
    "x_train, x_test, y_train, y_test = train_test_split(x, y, test_size = 0.3, random_state = 40)\n",
    "\n",
    "x_train = np.array(x_train.tolist())\n",
    "x_train = x_train.reshape(-1, 28, 28, 1)\n",
    "y_train = np.array(y_train, dtype = np.int32)\n",
    "y_train = to_categorical(y_train, num_classes = 10)\n",
    "\n",
    "x_test = np.array(x_test.tolist())\n",
    "x_test = x_test.reshape(-1, 28, 28, 1)\n",
    "y_test = np.array(y_test, dtype = np.int32)\n",
    "y_test = to_categorical(y_test, num_classes = 10)"
   ]
  },
  {
   "cell_type": "code",
   "execution_count": 8,
   "id": "2f43bdac",
   "metadata": {
    "execution": {
     "iopub.execute_input": "2024-02-15T08:12:18.305058Z",
     "iopub.status.busy": "2024-02-15T08:12:18.304590Z",
     "iopub.status.idle": "2024-02-15T08:12:18.686900Z",
     "shell.execute_reply": "2024-02-15T08:12:18.685653Z"
    },
    "papermill": {
     "duration": 0.403338,
     "end_time": "2024-02-15T08:12:18.698491",
     "exception": false,
     "start_time": "2024-02-15T08:12:18.295153",
     "status": "completed"
    },
    "tags": []
   },
   "outputs": [
    {
     "name": "stdout",
     "output_type": "stream",
     "text": [
      "Model: \"sequential\"\n",
      "_________________________________________________________________\n",
      " Layer (type)                Output Shape              Param #   \n",
      "=================================================================\n",
      " conv2d (Conv2D)             (None, 28, 28, 32)        160       \n",
      "                                                                 \n",
      " max_pooling2d (MaxPooling2  (None, 14, 14, 32)        0         \n",
      " D)                                                              \n",
      "                                                                 \n",
      " conv2d_1 (Conv2D)           (None, 14, 14, 64)        8256      \n",
      "                                                                 \n",
      " max_pooling2d_1 (MaxPoolin  (None, 7, 7, 64)          0         \n",
      " g2D)                                                            \n",
      "                                                                 \n",
      " conv2d_2 (Conv2D)           (None, 7, 7, 128)         32896     \n",
      "                                                                 \n",
      " max_pooling2d_2 (MaxPoolin  (None, 3, 3, 128)         0         \n",
      " g2D)                                                            \n",
      "                                                                 \n",
      " conv2d_3 (Conv2D)           (None, 3, 3, 256)         131328    \n",
      "                                                                 \n",
      " max_pooling2d_3 (MaxPoolin  (None, 3, 3, 256)         0         \n",
      " g2D)                                                            \n",
      "                                                                 \n",
      " batch_normalization (Batch  (None, 3, 3, 256)         1024      \n",
      " Normalization)                                                  \n",
      "                                                                 \n",
      " conv2d_4 (Conv2D)           (None, 3, 3, 512)         524800    \n",
      "                                                                 \n",
      " max_pooling2d_4 (MaxPoolin  (None, 3, 3, 512)         0         \n",
      " g2D)                                                            \n",
      "                                                                 \n",
      " flatten (Flatten)           (None, 4608)              0         \n",
      "                                                                 \n",
      " dense (Dense)               (None, 10)                46090     \n",
      "                                                                 \n",
      "=================================================================\n",
      "Total params: 744554 (2.84 MB)\n",
      "Trainable params: 744042 (2.84 MB)\n",
      "Non-trainable params: 512 (2.00 KB)\n",
      "_________________________________________________________________\n"
     ]
    }
   ],
   "source": [
    "model = Sequential([\n",
    "    Conv2D(input_shape = (28, 28, 1), filters = 32, kernel_size = (2, 2), padding = 'same', activation = 'relu'), MaxPooling2D(),\n",
    "    Conv2D(64, kernel_size = (2, 2), padding = 'same', activation = 'relu'), MaxPooling2D(),\n",
    "    Conv2D(128, kernel_size = (2, 2), padding = 'same', activation = 'relu'), MaxPooling2D(),\n",
    "    Conv2D(256, kernel_size = (2, 2), padding = 'same', activation = 'relu'), MaxPooling2D(pool_size = (1, 1)), BatchNormalization(),\n",
    "    Conv2D(512, kernel_size = (2, 2), padding = 'same', activation = 'relu'), MaxPooling2D(pool_size = (1, 1)),\n",
    "    Flatten(name = 'flatten'),\n",
    "    Dense(10, activation = 'softmax')\n",
    "])\n",
    "\n",
    "model.summary()"
   ]
  },
  {
   "cell_type": "code",
   "execution_count": 9,
   "id": "a93496f7",
   "metadata": {
    "execution": {
     "iopub.execute_input": "2024-02-15T08:12:18.723771Z",
     "iopub.status.busy": "2024-02-15T08:12:18.723195Z",
     "iopub.status.idle": "2024-02-15T08:12:18.743323Z",
     "shell.execute_reply": "2024-02-15T08:12:18.742078Z"
    },
    "papermill": {
     "duration": 0.036642,
     "end_time": "2024-02-15T08:12:18.746125",
     "exception": false,
     "start_time": "2024-02-15T08:12:18.709483",
     "status": "completed"
    },
    "tags": []
   },
   "outputs": [],
   "source": [
    "model.compile(optimizer = 'Adam', loss = 'categorical_crossentropy', metrics = ['accuracy'])"
   ]
  },
  {
   "cell_type": "code",
   "execution_count": 10,
   "id": "be7d8ebe",
   "metadata": {
    "execution": {
     "iopub.execute_input": "2024-02-15T08:12:18.770884Z",
     "iopub.status.busy": "2024-02-15T08:12:18.770416Z",
     "iopub.status.idle": "2024-02-15T08:12:18.776200Z",
     "shell.execute_reply": "2024-02-15T08:12:18.775164Z"
    },
    "papermill": {
     "duration": 0.021393,
     "end_time": "2024-02-15T08:12:18.778668",
     "exception": false,
     "start_time": "2024-02-15T08:12:18.757275",
     "status": "completed"
    },
    "tags": []
   },
   "outputs": [],
   "source": [
    "early_stopping = EarlyStopping(monitor = 'val_loss', patience = 4, restore_best_weights = True)"
   ]
  },
  {
   "cell_type": "code",
   "execution_count": 11,
   "id": "e31e0df2",
   "metadata": {
    "execution": {
     "iopub.execute_input": "2024-02-15T08:12:18.803168Z",
     "iopub.status.busy": "2024-02-15T08:12:18.802707Z",
     "iopub.status.idle": "2024-02-15T08:21:07.748900Z",
     "shell.execute_reply": "2024-02-15T08:21:07.747643Z"
    },
    "papermill": {
     "duration": 529.72964,
     "end_time": "2024-02-15T08:21:08.519745",
     "exception": false,
     "start_time": "2024-02-15T08:12:18.790105",
     "status": "completed"
    },
    "tags": []
   },
   "outputs": [
    {
     "name": "stdout",
     "output_type": "stream",
     "text": [
      "Epoch 1/50\n",
      "919/919 [==============================] - 55s 58ms/step - loss: 0.1577 - accuracy: 0.9498 - val_loss: 0.0834 - val_accuracy: 0.9737\n",
      "Epoch 2/50\n",
      "919/919 [==============================] - 53s 57ms/step - loss: 0.0673 - accuracy: 0.9788 - val_loss: 0.1115 - val_accuracy: 0.9690\n",
      "Epoch 3/50\n",
      "919/919 [==============================] - 53s 57ms/step - loss: 0.0478 - accuracy: 0.9849 - val_loss: 0.0766 - val_accuracy: 0.9770\n",
      "Epoch 4/50\n",
      "919/919 [==============================] - 53s 57ms/step - loss: 0.0390 - accuracy: 0.9870 - val_loss: 0.0678 - val_accuracy: 0.9842\n",
      "Epoch 5/50\n",
      "919/919 [==============================] - 52s 57ms/step - loss: 0.0327 - accuracy: 0.9900 - val_loss: 0.0824 - val_accuracy: 0.9810\n",
      "Epoch 6/50\n",
      "919/919 [==============================] - 53s 57ms/step - loss: 0.0280 - accuracy: 0.9913 - val_loss: 0.0662 - val_accuracy: 0.9855\n",
      "Epoch 7/50\n",
      "919/919 [==============================] - 53s 57ms/step - loss: 0.0270 - accuracy: 0.9918 - val_loss: 0.0787 - val_accuracy: 0.9811\n",
      "Epoch 8/50\n",
      "919/919 [==============================] - 53s 57ms/step - loss: 0.0244 - accuracy: 0.9928 - val_loss: 0.1008 - val_accuracy: 0.9772\n",
      "Epoch 9/50\n",
      "919/919 [==============================] - 53s 58ms/step - loss: 0.0193 - accuracy: 0.9937 - val_loss: 0.0814 - val_accuracy: 0.9846\n",
      "Epoch 10/50\n",
      "919/919 [==============================] - 52s 57ms/step - loss: 0.0212 - accuracy: 0.9934 - val_loss: 0.0852 - val_accuracy: 0.9837\n"
     ]
    }
   ],
   "source": [
    "history = model.fit(x_train, y_train, epochs = 50, batch_size = 32, validation_data = (x_test, y_test), callbacks = [early_stopping])"
   ]
  },
  {
   "cell_type": "code",
   "execution_count": 12,
   "id": "2d0e36f7",
   "metadata": {
    "execution": {
     "iopub.execute_input": "2024-02-15T08:21:10.201261Z",
     "iopub.status.busy": "2024-02-15T08:21:10.200704Z",
     "iopub.status.idle": "2024-02-15T08:21:43.046770Z",
     "shell.execute_reply": "2024-02-15T08:21:43.045572Z"
    },
    "papermill": {
     "duration": 34.42281,
     "end_time": "2024-02-15T08:21:43.816412",
     "exception": false,
     "start_time": "2024-02-15T08:21:09.393602",
     "status": "completed"
    },
    "tags": []
   },
   "outputs": [
    {
     "data": {
      "image/png": "[encoded data removed]",
      "text/plain": [
       "<Figure size 640x480 with 1 Axes>"
      ]
     },
     "metadata": {},
     "output_type": "display_data"
    }
   ],
   "source": [
    "plt.plot(history.history['accuracy'], label = 'Training Accuracy')\n",
    "plt.plot(history.history['val_accuracy'], label = 'Validation Accuracy')\n",
    "plt.xlabel('Epochs')\n",
    "plt.ylabel('Accuracy')\n",
    "plt.title('Training and Validation Accuracy')\n",
    "plt.legend()\n",
    "plt.show()"
   ]
  },
  {
   "cell_type": "code",
   "execution_count": 13,
   "id": "764d72d0",
   "metadata": {
    "execution": {
     "iopub.execute_input": "2024-02-15T08:21:45.433316Z",
     "iopub.status.busy": "2024-02-15T08:21:45.432332Z",
     "iopub.status.idle": "2024-02-15T08:23:14.199905Z",
     "shell.execute_reply": "2024-02-15T08:23:14.198840Z"
    },
    "papermill": {
     "duration": 89.618943,
     "end_time": "2024-02-15T08:23:14.202828",
     "exception": false,
     "start_time": "2024-02-15T08:21:44.583885",
     "status": "completed"
    },
    "tags": []
   },
   "outputs": [],
   "source": [
    "new = pd.DataFrame(columns = ['Matrix'])\n",
    "for x in range(len(df)) :\n",
    "    new.loc[x,\"Matrix\"] = np.reshape(df.loc[x,\"pixel0\":\"pixel783\"].values/255.0,(28, 28))\n",
    "x = new[\"Matrix\"].values\n",
    "x_test = np.array(x.tolist())\n",
    "x_test = x_test.reshape(-1, 28, 28, 1)"
   ]
  },
  {
   "cell_type": "code",
   "execution_count": 14,
   "id": "62e14bc4",
   "metadata": {
    "execution": {
     "iopub.execute_input": "2024-02-15T08:23:15.822301Z",
     "iopub.status.busy": "2024-02-15T08:23:15.821222Z",
     "iopub.status.idle": "2024-02-15T08:23:32.050554Z",
     "shell.execute_reply": "2024-02-15T08:23:32.049174Z"
    },
    "papermill": {
     "duration": 17.055682,
     "end_time": "2024-02-15T08:23:32.053466",
     "exception": false,
     "start_time": "2024-02-15T08:23:14.997784",
     "status": "completed"
    },
    "tags": []
   },
   "outputs": [
    {
     "name": "stdout",
     "output_type": "stream",
     "text": [
      "1313/1313 [==============================] - 15s 11ms/step\n"
     ]
    },
    {
     "data": {
      "text/plain": [
       "array([1, 0, 1, ..., 7, 6, 9])"
      ]
     },
     "execution_count": 14,
     "metadata": {},
     "output_type": "execute_result"
    }
   ],
   "source": [
    "predictions = model.predict(x_test)\n",
    "predictions = np.argmax(predictions, axis = 1)\n",
    "predictions"
   ]
  },
  {
   "cell_type": "code",
   "execution_count": 15,
   "id": "724e74c6",
   "metadata": {
    "execution": {
     "iopub.execute_input": "2024-02-15T08:23:33.730592Z",
     "iopub.status.busy": "2024-02-15T08:23:33.730177Z",
     "iopub.status.idle": "2024-02-15T08:23:58.493062Z",
     "shell.execute_reply": "2024-02-15T08:23:58.491563Z"
    },
    "papermill": {
     "duration": 25.562761,
     "end_time": "2024-02-15T08:23:58.495946",
     "exception": false,
     "start_time": "2024-02-15T08:23:32.933185",
     "status": "completed"
    },
    "tags": []
   },
   "outputs": [],
   "source": [
    "final = pd.DataFrame(columns = [\"Matrice\", \"Label\"])\n",
    "final[\"Label\"] = predictions\n",
    "for i in range(len(final)) :\n",
    "    final.loc[i, \"Matrice\"] = int(i + 1)\n",
    "final = final.set_index(\"Matrice\")"
   ]
  },
  {
   "cell_type": "code",
   "execution_count": 16,
   "id": "05b726c7",
   "metadata": {
    "execution": {
     "iopub.execute_input": "2024-02-15T08:24:00.112600Z",
     "iopub.status.busy": "2024-02-15T08:24:00.111608Z",
     "iopub.status.idle": "2024-02-15T08:24:00.168138Z",
     "shell.execute_reply": "2024-02-15T08:24:00.166902Z"
    },
    "papermill": {
     "duration": 0.86427,
     "end_time": "2024-02-15T08:24:00.171095",
     "exception": false,
     "start_time": "2024-02-15T08:23:59.306825",
     "status": "completed"
    },
    "tags": []
   },
   "outputs": [],
   "source": [
    "submission = pd.read_csv(\"/kaggle/input/digit-recognizer/sample_submission.csv\")\n",
    "submission = final\n",
    "submission.to_csv('final_submission.csv', index = False)"
   ]
  }
 ],
 "metadata": {
  "kaggle": {
   "accelerator": "none",
   "dataSources": [
    {
     "databundleVersionId": 861823,
     "sourceId": 3004,
     "sourceType": "competition"
    }
   ],
   "dockerImageVersionId": 30635,
   "isGpuEnabled": false,
   "isInternetEnabled": true,
   "language": "python",
   "sourceType": "notebook"
  },
  "kernelspec": {
   "display_name": "Python 3",
   "language": "python",
   "name": "python3"
  },
  "language_info": {
   "codemirror_mode": {
    "name": "ipython",
    "version": 3
   },
   "file_extension": ".py",
   "mimetype": "text/x-python",
   "name": "python",
   "nbconvert_exporter": "python",
   "pygments_lexer": "ipython3",
   "version": "3.10.12"
  },
  "papermill": {
   "default_parameters": {},
   "duration": 842.892426,
   "end_time": "2024-02-15T08:24:03.802241",
   "environment_variables": {},
   "exception": null,
   "input_path": "__notebook__.ipynb",
   "output_path": "__notebook__.ipynb",
   "parameters": {},
   "start_time": "2024-02-15T08:10:00.909815",
   "version": "2.4.0"
  }
 },
 "nbformat": 4,
 "nbformat_minor": 5
}
